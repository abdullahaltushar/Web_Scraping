{
 "cells": [
  {
   "cell_type": "code",
   "execution_count": 1,
   "id": "04751721",
   "metadata": {},
   "outputs": [],
   "source": [
    "#imports here\n",
    "from selenium import webdriver\n",
    "from selenium.webdriver.common.keys import Keys\n",
    "from selenium.webdriver.support import expected_conditions as EC\n",
    "from selenium.webdriver.common.by import By\n",
    "from selenium.webdriver.support.wait import WebDriverWait\n",
    "from selenium import webdriver\n",
    "from selenium.webdriver.common.by import By\n",
    "import requests\n",
    "import io\n",
    "from PIL import Image\n",
    "import time "
   ]
  },
  {
   "cell_type": "code",
   "execution_count": 2,
   "id": "a22aea5a",
   "metadata": {
    "scrolled": true
   },
   "outputs": [
    {
     "name": "stderr",
     "output_type": "stream",
     "text": [
      "C:\\Users\\ADMINI~1\\AppData\\Local\\Temp/ipykernel_5880/2487939422.py:4: DeprecationWarning: executable_path has been deprecated, please pass in a Service object\n",
      "  wd = webdriver.Chrome(PATH)\n"
     ]
    }
   ],
   "source": [
    "#specify the path to chromedriver.exe (download and save on your computer)\n",
    "PATH = \"C:\\\\Users\\\\Administrator\\\\Desktop\\\\chromedriver.exe\"\n",
    "\n",
    "wd = webdriver.Chrome(PATH)"
   ]
  },
  {
   "cell_type": "code",
   "execution_count": 3,
   "id": "69fd575c",
   "metadata": {},
   "outputs": [
    {
     "name": "stderr",
     "output_type": "stream",
     "text": [
      "C:\\Users\\ADMINI~1\\AppData\\Local\\Temp/ipykernel_5880/2281171613.py:4: DeprecationWarning: use options instead of chrome_options\n",
      "  wd = webdriver.Chrome(chrome_options=chrome_options)\n"
     ]
    }
   ],
   "source": [
    "chrome_options = webdriver.ChromeOptions()\n",
    "prefs = {\"profile.default_content_setting_values.notifications\" : 2}\n",
    "chrome_options.add_experimental_option(\"prefs\",prefs)\n",
    "wd = webdriver.Chrome(chrome_options=chrome_options)\n",
    "wd.get(\"https://www.youtube.com/watch?v=N6EHKn6SK7k\")"
   ]
  },
  {
   "cell_type": "code",
   "execution_count": 4,
   "id": "c8048e67",
   "metadata": {},
   "outputs": [],
   "source": [
    "# #target username\n",
    "# username = WebDriverWait(wd, 10).until(EC.element_to_be_clickable((By.CSS_SELECTOR, \"input[name='email']\")))\n",
    "# password = WebDriverWait(wd, 10).until(EC.element_to_be_clickable((By.CSS_SELECTOR, \"input[name='pass']\")))\n",
    "\n",
    "# #enter username and password\n",
    "# username.clear()\n",
    "# username.send_keys(\"abdullahaltushar12@gmail.com\")\n",
    "# password.clear()\n",
    "# password.send_keys(\"\")\n",
    "\n",
    "# #target the login button and click it\n",
    "# button = WebDriverWait(wd, 2).until(EC.element_to_be_clickable((By.CSS_SELECTOR, \"button[type='submit']\"))).click()\n"
   ]
  },
  {
   "cell_type": "code",
   "execution_count": 5,
   "id": "a0468fa6",
   "metadata": {},
   "outputs": [],
   "source": [
    "import pandas as pd\n",
    "import requests\n",
    "from bs4 import BeautifulSoup\n",
    "#wd.get('https://www.youtube.com/watch?v=N6EHKn6SK7k')\n",
    "\n",
    "for x in range(1, 4):\n",
    "    wd.execute_script(\"window.scrollTo(0,document.body.scrollHeight)\")\n",
    "    time.sleep(5)\n",
    "\n",
    "soup = BeautifulSoup(wd.page_source, 'html.parser')\n",
    "\n",
    "#titles=soup.find_all('div',attrs={'class':'style-scope ytd-expander'})\n",
    "comments=soup.find_all('div',attrs={'class':'style-scope ytd-expander'})\n",
    "\n",
    "#titleloop=[title.text for title in titles]\n",
    "commentloop=[comment.text for comment in comments]\n"
   ]
  },
  {
   "cell_type": "code",
   "execution_count": 6,
   "id": "1666a392",
   "metadata": {},
   "outputs": [
    {
     "data": {
      "text/plain": [
       "['\\nCheckout the full review of Redmi Note 11 Pro 5G smartphone after 14 days of usage. Know all the pros and cons before you buy it.  #RedmiNote11Pro #RedmiNote11ProPlus5G #BestGetsBetter\\n- - - - - - - - - - - - - - - - - - - - - - - - - - - - - - - - - - - - - - - - - - - - - - - - \\nSkins Used : http://bit.ly/320T0Xy\\nScreen Protector Used : http://bit.ly/2JAoRbl\\n- - - - - - - - - - - - - - - - - - - - - - - - - - - - - - - - - - - - - - - - - - - - - - - - \\nSee our Host Saurabh on his social network,\\n- - - - - - - - - - - - - - - - - - - - - - - - - - - - - - - - - - - - - - - - - - - - - - - - \\n❄ T W I T T E R➜  https://twitter.com/ParasmeSaurabh\\n❄ I N S T A G R A M➜ https://instagram.com/ParasmeSaurabh\\n❄ F A C E B O O K➜ https://facebook.com/ParasmeSaurabh\\n- - - - - - - - - - - - - - - - - - - - - - - - - - - - - - - - - - - - - - - - - - - - - - - - \\n❄ T W I T T E R➜  https://twitter.com/GISSupport\\n❄ I N S T A G R A M➜ https://instagram.com/GuptaInformatio... \\n❄ F A C E B O O K➜ https://facebook.com/GuptaInformation...\\n- - - - - - - - - - - - - - - - - - - - - - - - - - - - - - - - - - - - - - - - - - - - - - - - -\\n[Vlog Channel] Siya & Saurabh : https://www.youtube.com/channel/UC4Rf...\\n\\n[English] Gupta Information Systems : https://www.youtube.com/user/GuptaInf...\\n\\n[हिंदी] Gupta Information Systems : https://www.youtube.com/channel/UCqOL...\\n\\nOur Cooking Channel [ Gupta Cuisine & Home Tips]\\nhttps://www.youtube.com/channel/UCo5l...\\n\\nOur Gardening Channel[Gupta Gardens & Gardening Tips]\\nhttps://www.youtube.com/channel/UC9PN...\\n- - - - - - - - - - - - - - - - - - - - - - - - - - - - - - - - - - - - - - - - - - - - - - - - \\nBusiness Inquiries Only:- support@guptainformationsystems.com \\n- - - - - - - - - - - - - - - - - - - - - - - - - - - - - - - - - - - - - - - - - - - - - - - - -\\nWant to send me something?\\nWrite to Us at :- support@guptainformationsystems.com \\n- - - - - - - - - - - - - - - - - - - - - - - - - - - - - - - - - - - - - - - - - - - - - - - - -\\n\\n',\n",
       " '\\n\\n\\n89.9% of the comments here be like; he never fails to make me laugh his content never disappoint us💕💕💕\\n',\n",
       " \"\\n\\n\\n3:30 Sir, i checked out the comparison between Snapdragon 695 vs 7 series and the 695 is slightly better than 765, I don't know why Qualcomm named with 6 series🤷🤷\\n\",\n",
       " '\\n\\n\\nYou are the only one in indian tech industry who is uploading good videos nowadays. keep up the good work Saurabh bro :)\\n',\n",
       " \"\\n\\n\\nThat's a Simple and Wow Presentation 👏🔥👏😍\\n\",\n",
       " '\\n\\n\\nCan you record in 4k using a GCam?\\n',\n",
       " \"\\n\\n\\nsir i'm very curious to know that, is only youtube your main profession or you have some other business also? plz reply !!😍😍🙏🙏\\n\",\n",
       " '\\n\\n\\nRealme 9 pro 5g ka durability test & detailed review kijiye Gupta jiii🙏🙏\\n',\n",
       " '\\n\\n\\nSir your openion is unbelievable sir\\n',\n",
       " '\\n\\n\\nSir please tell me which is the best phone under 20k\\nLong time using\\nI was waiting for this phone for 2 months but alas its processor week.\\nPlease recommend best awaiting your reply sir my priority software \\nAnd battery heavy using\\n',\n",
       " '\\n\\n\\nPlz make a camera comparison video Realme 9 Pro Plus/ Samsung galaxy M52/ Redmi Note 11 Pro Plus.....🙏🙏🇮🇳🇮🇳🇮🇳💞💞💞\\n',\n",
       " '\\n\\n\\nWow, realme pro plus ka camera🙇\\u200d♂️🙇\\u200d♂️🙇\\u200d♂️\\n',\n",
       " '\\n\\n\\nAll aspects cover which decide to user, this phone buy or not.\\nGreat job done,👍👍\\n',\n",
       " '\\n\\n\\nbro sound quality is not up to the mark....\\n',\n",
       " '\\n\\n\\nHi ! Waiting for Drop test\\n',\n",
       " '\\n\\n\\nSir Redmi note 11 pro+ 5g ko Moto G71 5g se compare kijiye ..(camera specially)..kyu ki dono price almost same hai... 👍🏾\\n',\n",
       " '\\n\\n\\nAt the start of video only, I guess you forgot to edit the titles 😅\\n',\n",
       " '\\n\\n\\nSir ji , iPhone chorke aap kis phone ko apne daily use ke liye regular main phone banayenge jo all rounder hai ( gaming not needed) please bataiye.\\n',\n",
       " '\\n\\n\\nBindass review\\nI liked it\\nThanks\\n',\n",
       " '\\n\\n\\nXiaomi 11i >  Redmi note 11 pro + 5G\\n',\n",
       " '\\n\\n\\ndecent review...... i like u 👍👍👍👍\\n',\n",
       " '\\n\\n\\n25000 dekar kuch v faida nahi.. Mera poco x3 acha hai ise😊😊😊😊\\n',\n",
       " '\\n\\n\\nSirji moto edge 30 pro?\\n',\n",
       " '\\n\\n\\nRealme 9 pro acha laga camera me\\n',\n",
       " '\\n\\n\\nSir make a video on Google pixel 3xl in 2022\\n',\n",
       " '\\n\\n\\nLooks change redmi😄\\n',\n",
       " '\\n\\n\\nvivo v23 ki durability test 2 ki video kabhi aayegi\\n',\n",
       " '\\n\\n\\nthank you sir for telling\\n',\n",
       " \"\\n\\n\\nSir can u pls mention it's price.\\n\",\n",
       " '\\n\\n\\nNice 👍👍\\n',\n",
       " '\\n\\n\\nIs bar Redmi walon ne pehli hi Gupta ji ki phone de diya taki bad me khud khareed ke tod phod na kreny😂😂.\\n',\n",
       " '\\n\\n\\nIss se badya bhai redmi note 7 pro hai abhi bhi b paaddd deta hai saare phones ki under 20k all rounder even Xiaomi & redmi ke phone ki bhi👍🤣🤣🤣\\n',\n",
       " '\\n\\n\\nLove ❤️ you sir\\n',\n",
       " '\\n\\n\\nMere Redmi Note 5 pro meh 1080p 60fps video recording support hai + 4k video play bhi hota hai 🤣\\n',\n",
       " '\\n\\n\\nSir redmi ke  all phone ka  Collection kro plzz jis trah realme ka kiya tha\\n',\n",
       " '\\n\\n\\nPlease infinix zero 5g review\\n',\n",
       " '\\n\\n\\nMx player mein 4k Video play hoga kya ?\\n',\n",
       " '\\n\\n\\n👍\\n',\n",
       " '\\n\\n\\nHow much the price\\n',\n",
       " '\\n\\n\\nMega drop test kab hai???\\n',\n",
       " '\\n\\n\\nRealme 9 pro camera test or review please video\\n',\n",
       " '\\n\\n\\n🙏👍👍👍\\n',\n",
       " '\\n\\n\\nThank you sir batane ke liye\\n',\n",
       " '\\n\\n\\nSir moto edge 30 pro\\n',\n",
       " '\\n\\n\\nIqoo z5 loon ya 11 pro\\n',\n",
       " '\\n\\n\\nAir do with iqoo 9\\n',\n",
       " '\\n\\n\\nThis or 11i?\\n',\n",
       " '\\n\\n\\nSir ji title ko edit karna miss kar gaye...\\n',\n",
       " '\\n\\n\\nFirst view and like\\n',\n",
       " '\\n\\n\\nSir mujye koyi best phone batow 25 thousand k under mera mean Focus hai Camera picture and video 🎥 so please suggest I am waiting your message\\n',\n",
       " '\\n\\n\\nMoto edge 3 pro sir\\n',\n",
       " '\\n\\n\\nKam price deke Redmi note 10 pro le lu kya???\\n',\n",
       " '\\n\\n\\n20,999rs 😭\\n',\n",
       " '\\n\\n\\nsame boxy design in Redmi note 8👀🤣\\n',\n",
       " '\\n\\n\\nNice , aacha hae\\n',\n",
       " '\\n\\n\\n❤️❤️❤️❤️❤️❤️❤️\\n',\n",
       " '\\n\\n\\nPrice kitna hai iska\\n',\n",
       " '\\n\\n\\nOppo f19 pro Plus par video\\n',\n",
       " \"\\n\\n\\nSir Lenovo legion y 90 phone release date in india tell me sir don't miss\\n\",\n",
       " '\\n\\n\\nsir any chance of asus 8z video?\\n',\n",
       " '\\n\\n\\nPakistan me asy mble q ni aty hy\\n',\n",
       " '\\n\\n\\nSir ji aapne der kar di hai kyuki  mene xiaomi 11i le liya hai, thoda bura lag raha hai ki jo phone mene 27000/- hajar me liya hai uske jesa hi abhi thode kam daam me mil raha hai.... \\nBt no problem me iske saath khush hu..\\nMere dusare bhai bahen ko pasand aayega vo jarur lenge.\\nThank you ache video bana ke hame konsa phone lena hai, vo samjane ke liye.\\nThank you sirji.....😊😊😊😊😊\\n',\n",
       " '\\n\\n\\nMere pass poco x3 hai to poco x4 pro mein sift hona chahiye ya nahin?\\n',\n",
       " '\\n\\n\\nisse to mera 4 saal puran phone hai 4k 60 fps yt mai support/show karta hai 😂\\n',\n",
       " '\\n\\n\\nReal story aapke But kehne ke baad hi suru hoti hai\\n',\n",
       " '\\n\\n\\nMujhe apka sara video achha lgta h\\n',\n",
       " '\\n\\n\\nSir ji iss phone ke upar gussa kab nikalo ge ?\\n',\n",
       " '\\n\\n\\nsir your bread is like wolverine from middle east\\n',\n",
       " '\\n\\n\\nThis redmi 11 series is simply waste\\n',\n",
       " '\\n\\n\\nRealme 9 pro plus vs redmi note 11 pro plus which is better overall\\n',\n",
       " '\\n\\n\\nYour title here\\nEpisode name\\n',\n",
       " '\\n\\n\\nPrice is 20999\\n',\n",
       " '\\n\\n\\nIqoo 9 drip test\\n',\n",
       " '\\n\\n\\nIqoo 9 5g\\n',\n",
       " '\\n\\n\\nIqoo new phone plz\\n',\n",
       " '\\n\\n\\nSir muze naya mobile phone lena hai to konsa phone lena chahiye redmi note 11pro+ya realme 9 pro plus\\nMera bajut 30000hajar rupye hai\\n',\n",
       " '\\n\\n\\nSir kaise ho aap\\n',\n",
       " '\\n\\n\\nTatti phone\\n',\n",
       " '\\n\\n\\nSir,apto bahut sari smart phone bhang deteho,ek mujhe gift kardo.\\n',\n",
       " '\\n\\n\\nAke video k hmesa wite krte rhta hu\\n',\n",
       " '\\n\\n\\nSeound comment💬💬\\n',\n",
       " '\\n\\n\\nVoice changer\\n',\n",
       " '\\n\\n\\n1frrst\\n',\n",
       " \"\\n\\n\\nI don't like this phone 📱 😡 \\nYr price dekho 👎👎👎👎\\n\",\n",
       " '\\n\\n\\nDabba phn hai 😡 😡 😡 😡\\n',\n",
       " '\\n\\nCheckout the full review of Redmi Note 11 Pro 5G smartphone after 14 days of usage. Know all the pros and cons before you buy it.  #RedmiNote11Pro #RedmiNote11ProPlus5G #BestGetsBetter\\n- - - - - - - - - - - - - - - - - - - - - - - - - - - - - - - - - - - - - - - - - - - - - - - - \\nSkins Used : http://bit.ly/320T0Xy\\nScreen Protector Used : http://bit.ly/2JAoRbl\\n- - - - - - - - - - - - - - - - - - - - - - - - - - - - - - - - - - - - - - - - - - - - - - - - \\nSee our Host Saurabh on his social network,\\n- - - - - - - - - - - - - - - - - - - - - - - - - - - - - - - - - - - - - - - - - - - - - - - - \\n❄ T W I T T E R➜  https://twitter.com/ParasmeSaurabh\\n❄ I N S T A G R A M➜ https://instagram.com/ParasmeSaurabh\\n❄ F A C E B O O K➜ https://facebook.com/ParasmeSaurabh\\n- - - - - - - - - - - - - - - - - - - - - - - - - - - - - - - - - - - - - - - - - - - - - - - - \\n❄ T W I T T E R➜  https://twitter.com/GISSupport\\n❄ I N S T A G R A M➜ https://instagram.com/GuptaInformatio... \\n❄ F A C E B O O K➜ https://facebook.com/GuptaInformation...\\n- - - - - - - - - - - - - - - - - - - - - - - - - - - - - - - - - - - - - - - - - - - - - - - - -\\n[Vlog Channel] Siya & Saurabh : https://www.youtube.com/channel/UC4Rf...\\n\\n[English] Gupta Information Systems : https://www.youtube.com/user/GuptaInf...\\n\\n[हिंदी] Gupta Information Systems : https://www.youtube.com/channel/UCqOL...\\n\\nOur Cooking Channel [ Gupta Cuisine & Home Tips]\\nhttps://www.youtube.com/channel/UCo5l...\\n\\nOur Gardening Channel[Gupta Gardens & Gardening Tips]\\nhttps://www.youtube.com/channel/UC9PN...\\n- - - - - - - - - - - - - - - - - - - - - - - - - - - - - - - - - - - - - - - - - - - - - - - - \\nBusiness Inquiries Only:- support@guptainformationsystems.com \\n- - - - - - - - - - - - - - - - - - - - - - - - - - - - - - - - - - - - - - - - - - - - - - - - -\\nWant to send me something?\\nWrite to Us at :- support@guptainformationsystems.com \\n- - - - - - - - - - - - - - - - - - - - - - - - - - - - - - - - - - - - - - - - - - - - - - - - -\\n\\n']"
      ]
     },
     "execution_count": 6,
     "metadata": {},
     "output_type": "execute_result"
    }
   ],
   "source": [
    "commentloop"
   ]
  },
  {
   "cell_type": "code",
   "execution_count": 7,
   "id": "ff9eef28",
   "metadata": {},
   "outputs": [],
   "source": [
    "# import pandas as pd\n",
    "# import requests\n",
    "# from bs4 import BeautifulSoup\n",
    "# wd.get('https://www.facebook.com/')\n",
    "\n",
    "# for x in range(1, 4):\n",
    "#     wd.execute_script(\"window.scrollTo(0,document.body.scrollHeight)\")\n",
    "#     time.sleep(5)\n",
    "\n",
    "# soup = BeautifulSoup(wd.page_source, 'html.parser')\n",
    "\n",
    "# titles=soup.find_all('span',attrs={'class':'nc684nl6'})\n",
    "# comments=soup.find_all('div',attrs={'class':'kvgmc6g5 cxmmr5t8 oygrvhab hcukyx3x c1et5uql'})\n",
    "\n",
    "# titleloop=[title.text for title in titles]\n",
    "# commentloop=[comment.text for comment in comments]"
   ]
  },
  {
   "cell_type": "code",
   "execution_count": 8,
   "id": "12ea3557",
   "metadata": {},
   "outputs": [],
   "source": [
    "data={'comment':commentloop}"
   ]
  },
  {
   "cell_type": "code",
   "execution_count": 9,
   "id": "5bc571c0",
   "metadata": {},
   "outputs": [
    {
     "data": {
      "text/plain": [
       "{'comment': ['\\nCheckout the full review of Redmi Note 11 Pro 5G smartphone after 14 days of usage. Know all the pros and cons before you buy it.  #RedmiNote11Pro #RedmiNote11ProPlus5G #BestGetsBetter\\n- - - - - - - - - - - - - - - - - - - - - - - - - - - - - - - - - - - - - - - - - - - - - - - - \\nSkins Used : http://bit.ly/320T0Xy\\nScreen Protector Used : http://bit.ly/2JAoRbl\\n- - - - - - - - - - - - - - - - - - - - - - - - - - - - - - - - - - - - - - - - - - - - - - - - \\nSee our Host Saurabh on his social network,\\n- - - - - - - - - - - - - - - - - - - - - - - - - - - - - - - - - - - - - - - - - - - - - - - - \\n❄ T W I T T E R➜  https://twitter.com/ParasmeSaurabh\\n❄ I N S T A G R A M➜ https://instagram.com/ParasmeSaurabh\\n❄ F A C E B O O K➜ https://facebook.com/ParasmeSaurabh\\n- - - - - - - - - - - - - - - - - - - - - - - - - - - - - - - - - - - - - - - - - - - - - - - - \\n❄ T W I T T E R➜  https://twitter.com/GISSupport\\n❄ I N S T A G R A M➜ https://instagram.com/GuptaInformatio... \\n❄ F A C E B O O K➜ https://facebook.com/GuptaInformation...\\n- - - - - - - - - - - - - - - - - - - - - - - - - - - - - - - - - - - - - - - - - - - - - - - - -\\n[Vlog Channel] Siya & Saurabh : https://www.youtube.com/channel/UC4Rf...\\n\\n[English] Gupta Information Systems : https://www.youtube.com/user/GuptaInf...\\n\\n[हिंदी] Gupta Information Systems : https://www.youtube.com/channel/UCqOL...\\n\\nOur Cooking Channel [ Gupta Cuisine & Home Tips]\\nhttps://www.youtube.com/channel/UCo5l...\\n\\nOur Gardening Channel[Gupta Gardens & Gardening Tips]\\nhttps://www.youtube.com/channel/UC9PN...\\n- - - - - - - - - - - - - - - - - - - - - - - - - - - - - - - - - - - - - - - - - - - - - - - - \\nBusiness Inquiries Only:- support@guptainformationsystems.com \\n- - - - - - - - - - - - - - - - - - - - - - - - - - - - - - - - - - - - - - - - - - - - - - - - -\\nWant to send me something?\\nWrite to Us at :- support@guptainformationsystems.com \\n- - - - - - - - - - - - - - - - - - - - - - - - - - - - - - - - - - - - - - - - - - - - - - - - -\\n\\n',\n",
       "  '\\n\\n\\n89.9% of the comments here be like; he never fails to make me laugh his content never disappoint us💕💕💕\\n',\n",
       "  \"\\n\\n\\n3:30 Sir, i checked out the comparison between Snapdragon 695 vs 7 series and the 695 is slightly better than 765, I don't know why Qualcomm named with 6 series🤷🤷\\n\",\n",
       "  '\\n\\n\\nYou are the only one in indian tech industry who is uploading good videos nowadays. keep up the good work Saurabh bro :)\\n',\n",
       "  \"\\n\\n\\nThat's a Simple and Wow Presentation 👏🔥👏😍\\n\",\n",
       "  '\\n\\n\\nCan you record in 4k using a GCam?\\n',\n",
       "  \"\\n\\n\\nsir i'm very curious to know that, is only youtube your main profession or you have some other business also? plz reply !!😍😍🙏🙏\\n\",\n",
       "  '\\n\\n\\nRealme 9 pro 5g ka durability test & detailed review kijiye Gupta jiii🙏🙏\\n',\n",
       "  '\\n\\n\\nSir your openion is unbelievable sir\\n',\n",
       "  '\\n\\n\\nSir please tell me which is the best phone under 20k\\nLong time using\\nI was waiting for this phone for 2 months but alas its processor week.\\nPlease recommend best awaiting your reply sir my priority software \\nAnd battery heavy using\\n',\n",
       "  '\\n\\n\\nPlz make a camera comparison video Realme 9 Pro Plus/ Samsung galaxy M52/ Redmi Note 11 Pro Plus.....🙏🙏🇮🇳🇮🇳🇮🇳💞💞💞\\n',\n",
       "  '\\n\\n\\nWow, realme pro plus ka camera🙇\\u200d♂️🙇\\u200d♂️🙇\\u200d♂️\\n',\n",
       "  '\\n\\n\\nAll aspects cover which decide to user, this phone buy or not.\\nGreat job done,👍👍\\n',\n",
       "  '\\n\\n\\nbro sound quality is not up to the mark....\\n',\n",
       "  '\\n\\n\\nHi ! Waiting for Drop test\\n',\n",
       "  '\\n\\n\\nSir Redmi note 11 pro+ 5g ko Moto G71 5g se compare kijiye ..(camera specially)..kyu ki dono price almost same hai... 👍🏾\\n',\n",
       "  '\\n\\n\\nAt the start of video only, I guess you forgot to edit the titles 😅\\n',\n",
       "  '\\n\\n\\nSir ji , iPhone chorke aap kis phone ko apne daily use ke liye regular main phone banayenge jo all rounder hai ( gaming not needed) please bataiye.\\n',\n",
       "  '\\n\\n\\nBindass review\\nI liked it\\nThanks\\n',\n",
       "  '\\n\\n\\nXiaomi 11i >  Redmi note 11 pro + 5G\\n',\n",
       "  '\\n\\n\\ndecent review...... i like u 👍👍👍👍\\n',\n",
       "  '\\n\\n\\n25000 dekar kuch v faida nahi.. Mera poco x3 acha hai ise😊😊😊😊\\n',\n",
       "  '\\n\\n\\nSirji moto edge 30 pro?\\n',\n",
       "  '\\n\\n\\nRealme 9 pro acha laga camera me\\n',\n",
       "  '\\n\\n\\nSir make a video on Google pixel 3xl in 2022\\n',\n",
       "  '\\n\\n\\nLooks change redmi😄\\n',\n",
       "  '\\n\\n\\nvivo v23 ki durability test 2 ki video kabhi aayegi\\n',\n",
       "  '\\n\\n\\nthank you sir for telling\\n',\n",
       "  \"\\n\\n\\nSir can u pls mention it's price.\\n\",\n",
       "  '\\n\\n\\nNice 👍👍\\n',\n",
       "  '\\n\\n\\nIs bar Redmi walon ne pehli hi Gupta ji ki phone de diya taki bad me khud khareed ke tod phod na kreny😂😂.\\n',\n",
       "  '\\n\\n\\nIss se badya bhai redmi note 7 pro hai abhi bhi b paaddd deta hai saare phones ki under 20k all rounder even Xiaomi & redmi ke phone ki bhi👍🤣🤣🤣\\n',\n",
       "  '\\n\\n\\nLove ❤️ you sir\\n',\n",
       "  '\\n\\n\\nMere Redmi Note 5 pro meh 1080p 60fps video recording support hai + 4k video play bhi hota hai 🤣\\n',\n",
       "  '\\n\\n\\nSir redmi ke  all phone ka  Collection kro plzz jis trah realme ka kiya tha\\n',\n",
       "  '\\n\\n\\nPlease infinix zero 5g review\\n',\n",
       "  '\\n\\n\\nMx player mein 4k Video play hoga kya ?\\n',\n",
       "  '\\n\\n\\n👍\\n',\n",
       "  '\\n\\n\\nHow much the price\\n',\n",
       "  '\\n\\n\\nMega drop test kab hai???\\n',\n",
       "  '\\n\\n\\nRealme 9 pro camera test or review please video\\n',\n",
       "  '\\n\\n\\n🙏👍👍👍\\n',\n",
       "  '\\n\\n\\nThank you sir batane ke liye\\n',\n",
       "  '\\n\\n\\nSir moto edge 30 pro\\n',\n",
       "  '\\n\\n\\nIqoo z5 loon ya 11 pro\\n',\n",
       "  '\\n\\n\\nAir do with iqoo 9\\n',\n",
       "  '\\n\\n\\nThis or 11i?\\n',\n",
       "  '\\n\\n\\nSir ji title ko edit karna miss kar gaye...\\n',\n",
       "  '\\n\\n\\nFirst view and like\\n',\n",
       "  '\\n\\n\\nSir mujye koyi best phone batow 25 thousand k under mera mean Focus hai Camera picture and video 🎥 so please suggest I am waiting your message\\n',\n",
       "  '\\n\\n\\nMoto edge 3 pro sir\\n',\n",
       "  '\\n\\n\\nKam price deke Redmi note 10 pro le lu kya???\\n',\n",
       "  '\\n\\n\\n20,999rs 😭\\n',\n",
       "  '\\n\\n\\nsame boxy design in Redmi note 8👀🤣\\n',\n",
       "  '\\n\\n\\nNice , aacha hae\\n',\n",
       "  '\\n\\n\\n❤️❤️❤️❤️❤️❤️❤️\\n',\n",
       "  '\\n\\n\\nPrice kitna hai iska\\n',\n",
       "  '\\n\\n\\nOppo f19 pro Plus par video\\n',\n",
       "  \"\\n\\n\\nSir Lenovo legion y 90 phone release date in india tell me sir don't miss\\n\",\n",
       "  '\\n\\n\\nsir any chance of asus 8z video?\\n',\n",
       "  '\\n\\n\\nPakistan me asy mble q ni aty hy\\n',\n",
       "  '\\n\\n\\nSir ji aapne der kar di hai kyuki  mene xiaomi 11i le liya hai, thoda bura lag raha hai ki jo phone mene 27000/- hajar me liya hai uske jesa hi abhi thode kam daam me mil raha hai.... \\nBt no problem me iske saath khush hu..\\nMere dusare bhai bahen ko pasand aayega vo jarur lenge.\\nThank you ache video bana ke hame konsa phone lena hai, vo samjane ke liye.\\nThank you sirji.....😊😊😊😊😊\\n',\n",
       "  '\\n\\n\\nMere pass poco x3 hai to poco x4 pro mein sift hona chahiye ya nahin?\\n',\n",
       "  '\\n\\n\\nisse to mera 4 saal puran phone hai 4k 60 fps yt mai support/show karta hai 😂\\n',\n",
       "  '\\n\\n\\nReal story aapke But kehne ke baad hi suru hoti hai\\n',\n",
       "  '\\n\\n\\nMujhe apka sara video achha lgta h\\n',\n",
       "  '\\n\\n\\nSir ji iss phone ke upar gussa kab nikalo ge ?\\n',\n",
       "  '\\n\\n\\nsir your bread is like wolverine from middle east\\n',\n",
       "  '\\n\\n\\nThis redmi 11 series is simply waste\\n',\n",
       "  '\\n\\n\\nRealme 9 pro plus vs redmi note 11 pro plus which is better overall\\n',\n",
       "  '\\n\\n\\nYour title here\\nEpisode name\\n',\n",
       "  '\\n\\n\\nPrice is 20999\\n',\n",
       "  '\\n\\n\\nIqoo 9 drip test\\n',\n",
       "  '\\n\\n\\nIqoo 9 5g\\n',\n",
       "  '\\n\\n\\nIqoo new phone plz\\n',\n",
       "  '\\n\\n\\nSir muze naya mobile phone lena hai to konsa phone lena chahiye redmi note 11pro+ya realme 9 pro plus\\nMera bajut 30000hajar rupye hai\\n',\n",
       "  '\\n\\n\\nSir kaise ho aap\\n',\n",
       "  '\\n\\n\\nTatti phone\\n',\n",
       "  '\\n\\n\\nSir,apto bahut sari smart phone bhang deteho,ek mujhe gift kardo.\\n',\n",
       "  '\\n\\n\\nAke video k hmesa wite krte rhta hu\\n',\n",
       "  '\\n\\n\\nSeound comment💬💬\\n',\n",
       "  '\\n\\n\\nVoice changer\\n',\n",
       "  '\\n\\n\\n1frrst\\n',\n",
       "  \"\\n\\n\\nI don't like this phone 📱 😡 \\nYr price dekho 👎👎👎👎\\n\",\n",
       "  '\\n\\n\\nDabba phn hai 😡 😡 😡 😡\\n',\n",
       "  '\\n\\nCheckout the full review of Redmi Note 11 Pro 5G smartphone after 14 days of usage. Know all the pros and cons before you buy it.  #RedmiNote11Pro #RedmiNote11ProPlus5G #BestGetsBetter\\n- - - - - - - - - - - - - - - - - - - - - - - - - - - - - - - - - - - - - - - - - - - - - - - - \\nSkins Used : http://bit.ly/320T0Xy\\nScreen Protector Used : http://bit.ly/2JAoRbl\\n- - - - - - - - - - - - - - - - - - - - - - - - - - - - - - - - - - - - - - - - - - - - - - - - \\nSee our Host Saurabh on his social network,\\n- - - - - - - - - - - - - - - - - - - - - - - - - - - - - - - - - - - - - - - - - - - - - - - - \\n❄ T W I T T E R➜  https://twitter.com/ParasmeSaurabh\\n❄ I N S T A G R A M➜ https://instagram.com/ParasmeSaurabh\\n❄ F A C E B O O K➜ https://facebook.com/ParasmeSaurabh\\n- - - - - - - - - - - - - - - - - - - - - - - - - - - - - - - - - - - - - - - - - - - - - - - - \\n❄ T W I T T E R➜  https://twitter.com/GISSupport\\n❄ I N S T A G R A M➜ https://instagram.com/GuptaInformatio... \\n❄ F A C E B O O K➜ https://facebook.com/GuptaInformation...\\n- - - - - - - - - - - - - - - - - - - - - - - - - - - - - - - - - - - - - - - - - - - - - - - - -\\n[Vlog Channel] Siya & Saurabh : https://www.youtube.com/channel/UC4Rf...\\n\\n[English] Gupta Information Systems : https://www.youtube.com/user/GuptaInf...\\n\\n[हिंदी] Gupta Information Systems : https://www.youtube.com/channel/UCqOL...\\n\\nOur Cooking Channel [ Gupta Cuisine & Home Tips]\\nhttps://www.youtube.com/channel/UCo5l...\\n\\nOur Gardening Channel[Gupta Gardens & Gardening Tips]\\nhttps://www.youtube.com/channel/UC9PN...\\n- - - - - - - - - - - - - - - - - - - - - - - - - - - - - - - - - - - - - - - - - - - - - - - - \\nBusiness Inquiries Only:- support@guptainformationsystems.com \\n- - - - - - - - - - - - - - - - - - - - - - - - - - - - - - - - - - - - - - - - - - - - - - - - -\\nWant to send me something?\\nWrite to Us at :- support@guptainformationsystems.com \\n- - - - - - - - - - - - - - - - - - - - - - - - - - - - - - - - - - - - - - - - - - - - - - - - -\\n\\n']}"
      ]
     },
     "execution_count": 9,
     "metadata": {},
     "output_type": "execute_result"
    }
   ],
   "source": [
    "data"
   ]
  },
  {
   "cell_type": "code",
   "execution_count": 10,
   "id": "539c8e50",
   "metadata": {},
   "outputs": [],
   "source": [
    "# data={'Name':commentloop, 'comment':titleloop}"
   ]
  },
  {
   "cell_type": "code",
   "execution_count": 11,
   "id": "c266d279",
   "metadata": {},
   "outputs": [
    {
     "data": {
      "text/html": [
       "<div>\n",
       "<style scoped>\n",
       "    .dataframe tbody tr th:only-of-type {\n",
       "        vertical-align: middle;\n",
       "    }\n",
       "\n",
       "    .dataframe tbody tr th {\n",
       "        vertical-align: top;\n",
       "    }\n",
       "\n",
       "    .dataframe thead th {\n",
       "        text-align: right;\n",
       "    }\n",
       "</style>\n",
       "<table border=\"1\" class=\"dataframe\">\n",
       "  <thead>\n",
       "    <tr style=\"text-align: right;\">\n",
       "      <th></th>\n",
       "      <th>comment</th>\n",
       "    </tr>\n",
       "  </thead>\n",
       "  <tbody>\n",
       "    <tr>\n",
       "      <th>0</th>\n",
       "      <td>\\nCheckout the full review of Redmi Note 11 Pr...</td>\n",
       "    </tr>\n",
       "    <tr>\n",
       "      <th>1</th>\n",
       "      <td>\\n\\n\\n89.9% of the comments here be like; he n...</td>\n",
       "    </tr>\n",
       "    <tr>\n",
       "      <th>2</th>\n",
       "      <td>\\n\\n\\n3:30 Sir, i checked out the comparison b...</td>\n",
       "    </tr>\n",
       "    <tr>\n",
       "      <th>3</th>\n",
       "      <td>\\n\\n\\nYou are the only one in indian tech indu...</td>\n",
       "    </tr>\n",
       "    <tr>\n",
       "      <th>4</th>\n",
       "      <td>\\n\\n\\nThat's a Simple and Wow Presentation 👏🔥👏😍\\n</td>\n",
       "    </tr>\n",
       "    <tr>\n",
       "      <th>...</th>\n",
       "      <td>...</td>\n",
       "    </tr>\n",
       "    <tr>\n",
       "      <th>81</th>\n",
       "      <td>\\n\\n\\nVoice changer\\n</td>\n",
       "    </tr>\n",
       "    <tr>\n",
       "      <th>82</th>\n",
       "      <td>\\n\\n\\n1frrst\\n</td>\n",
       "    </tr>\n",
       "    <tr>\n",
       "      <th>83</th>\n",
       "      <td>\\n\\n\\nI don't like this phone 📱 😡 \\nYr price d...</td>\n",
       "    </tr>\n",
       "    <tr>\n",
       "      <th>84</th>\n",
       "      <td>\\n\\n\\nDabba phn hai 😡 😡 😡 😡\\n</td>\n",
       "    </tr>\n",
       "    <tr>\n",
       "      <th>85</th>\n",
       "      <td>\\n\\nCheckout the full review of Redmi Note 11 ...</td>\n",
       "    </tr>\n",
       "  </tbody>\n",
       "</table>\n",
       "<p>86 rows × 1 columns</p>\n",
       "</div>"
      ],
      "text/plain": [
       "                                              comment\n",
       "0   \\nCheckout the full review of Redmi Note 11 Pr...\n",
       "1   \\n\\n\\n89.9% of the comments here be like; he n...\n",
       "2   \\n\\n\\n3:30 Sir, i checked out the comparison b...\n",
       "3   \\n\\n\\nYou are the only one in indian tech indu...\n",
       "4   \\n\\n\\nThat's a Simple and Wow Presentation 👏🔥👏😍\\n\n",
       "..                                                ...\n",
       "81                              \\n\\n\\nVoice changer\\n\n",
       "82                                     \\n\\n\\n1frrst\\n\n",
       "83  \\n\\n\\nI don't like this phone 📱 😡 \\nYr price d...\n",
       "84                      \\n\\n\\nDabba phn hai 😡 😡 😡 😡\\n\n",
       "85  \\n\\nCheckout the full review of Redmi Note 11 ...\n",
       "\n",
       "[86 rows x 1 columns]"
      ]
     },
     "execution_count": 11,
     "metadata": {},
     "output_type": "execute_result"
    }
   ],
   "source": [
    "data1=pd.DataFrame(data,columns=['comment'])\n",
    "data1"
   ]
  },
  {
   "cell_type": "code",
   "execution_count": 12,
   "id": "f36bf580",
   "metadata": {},
   "outputs": [],
   "source": [
    "# data=pd.DataFrame(data,columns=['Name','comment'])\n",
    "# data"
   ]
  },
  {
   "cell_type": "code",
   "execution_count": 13,
   "id": "b123dd71",
   "metadata": {},
   "outputs": [],
   "source": [
    "import re\n",
    "def replace_new_line(text):\n",
    "    return re.sub(r'(\\n)', ' ', text)"
   ]
  },
  {
   "cell_type": "code",
   "execution_count": 14,
   "id": "ccb85820",
   "metadata": {},
   "outputs": [],
   "source": [
    "data1['comment']= data1['comment'].apply(lambda x: replace_new_line(x))"
   ]
  },
  {
   "cell_type": "code",
   "execution_count": 15,
   "id": "a497b119",
   "metadata": {},
   "outputs": [],
   "source": [
    "def replace_under_line(text):\n",
    "    return re.sub(r'_', '', text)"
   ]
  },
  {
   "cell_type": "code",
   "execution_count": 16,
   "id": "aa8c9527",
   "metadata": {},
   "outputs": [],
   "source": [
    "data1['comment']= data1['comment'].apply(lambda x: replace_under_line(x))"
   ]
  },
  {
   "cell_type": "code",
   "execution_count": 17,
   "id": "3484ff5f",
   "metadata": {},
   "outputs": [
    {
     "data": {
      "text/html": [
       "<div>\n",
       "<style scoped>\n",
       "    .dataframe tbody tr th:only-of-type {\n",
       "        vertical-align: middle;\n",
       "    }\n",
       "\n",
       "    .dataframe tbody tr th {\n",
       "        vertical-align: top;\n",
       "    }\n",
       "\n",
       "    .dataframe thead th {\n",
       "        text-align: right;\n",
       "    }\n",
       "</style>\n",
       "<table border=\"1\" class=\"dataframe\">\n",
       "  <thead>\n",
       "    <tr style=\"text-align: right;\">\n",
       "      <th></th>\n",
       "      <th>comment</th>\n",
       "    </tr>\n",
       "  </thead>\n",
       "  <tbody>\n",
       "    <tr>\n",
       "      <th>0</th>\n",
       "      <td>Checkout the full review of Redmi Note 11 Pro...</td>\n",
       "    </tr>\n",
       "    <tr>\n",
       "      <th>1</th>\n",
       "      <td>89.9% of the comments here be like; he neve...</td>\n",
       "    </tr>\n",
       "    <tr>\n",
       "      <th>2</th>\n",
       "      <td>3:30 Sir, i checked out the comparison betw...</td>\n",
       "    </tr>\n",
       "    <tr>\n",
       "      <th>3</th>\n",
       "      <td>You are the only one in indian tech industr...</td>\n",
       "    </tr>\n",
       "    <tr>\n",
       "      <th>4</th>\n",
       "      <td>That's a Simple and Wow Presentation 👏🔥👏😍</td>\n",
       "    </tr>\n",
       "    <tr>\n",
       "      <th>...</th>\n",
       "      <td>...</td>\n",
       "    </tr>\n",
       "    <tr>\n",
       "      <th>81</th>\n",
       "      <td>Voice changer</td>\n",
       "    </tr>\n",
       "    <tr>\n",
       "      <th>82</th>\n",
       "      <td>1frrst</td>\n",
       "    </tr>\n",
       "    <tr>\n",
       "      <th>83</th>\n",
       "      <td>I don't like this phone 📱 😡  Yr price dekho...</td>\n",
       "    </tr>\n",
       "    <tr>\n",
       "      <th>84</th>\n",
       "      <td>Dabba phn hai 😡 😡 😡 😡</td>\n",
       "    </tr>\n",
       "    <tr>\n",
       "      <th>85</th>\n",
       "      <td>Checkout the full review of Redmi Note 11 Pr...</td>\n",
       "    </tr>\n",
       "  </tbody>\n",
       "</table>\n",
       "<p>86 rows × 1 columns</p>\n",
       "</div>"
      ],
      "text/plain": [
       "                                              comment\n",
       "0    Checkout the full review of Redmi Note 11 Pro...\n",
       "1      89.9% of the comments here be like; he neve...\n",
       "2      3:30 Sir, i checked out the comparison betw...\n",
       "3      You are the only one in indian tech industr...\n",
       "4          That's a Simple and Wow Presentation 👏🔥👏😍 \n",
       "..                                                ...\n",
       "81                                     Voice changer \n",
       "82                                            1frrst \n",
       "83     I don't like this phone 📱 😡  Yr price dekho...\n",
       "84                             Dabba phn hai 😡 😡 😡 😡 \n",
       "85    Checkout the full review of Redmi Note 11 Pr...\n",
       "\n",
       "[86 rows x 1 columns]"
      ]
     },
     "execution_count": 17,
     "metadata": {},
     "output_type": "execute_result"
    }
   ],
   "source": [
    "data1"
   ]
  },
  {
   "cell_type": "code",
   "execution_count": 18,
   "id": "05093dd4",
   "metadata": {},
   "outputs": [
    {
     "name": "stderr",
     "output_type": "stream",
     "text": [
      "[nltk_data] Downloading package punkt to\n",
      "[nltk_data]     C:\\Users\\Administrator\\AppData\\Roaming\\nltk_data...\n",
      "[nltk_data]   Package punkt is already up-to-date!\n",
      "[nltk_data] Downloading package wordnet to\n",
      "[nltk_data]     C:\\Users\\Administrator\\AppData\\Roaming\\nltk_data...\n",
      "[nltk_data]   Package wordnet is already up-to-date!\n"
     ]
    },
    {
     "data": {
      "text/plain": [
       "True"
      ]
     },
     "execution_count": 18,
     "metadata": {},
     "output_type": "execute_result"
    }
   ],
   "source": [
    "import nltk\n",
    "nltk.download('punkt')\n",
    "nltk.download('wordnet')"
   ]
  },
  {
   "cell_type": "code",
   "execution_count": 19,
   "id": "2705c4f3",
   "metadata": {},
   "outputs": [],
   "source": [
    "data1['comment']= data1['comment'].apply(lambda x: nltk.word_tokenize(x)) "
   ]
  },
  {
   "cell_type": "code",
   "execution_count": 20,
   "id": "e663d9d2",
   "metadata": {},
   "outputs": [],
   "source": [
    "stopwords=nltk.corpus.stopwords.words('english')"
   ]
  },
  {
   "cell_type": "code",
   "execution_count": 21,
   "id": "81a8b0ca",
   "metadata": {},
   "outputs": [],
   "source": [
    "def remove_stopWord(text):\n",
    "    output=[i for i in text if i not in stopwords]\n",
    "    return output"
   ]
  },
  {
   "cell_type": "code",
   "execution_count": 22,
   "id": "15172b6d",
   "metadata": {},
   "outputs": [],
   "source": [
    "data1['comment']=data1['comment'].apply(lambda x: remove_stopWord(x))"
   ]
  },
  {
   "cell_type": "code",
   "execution_count": 23,
   "id": "2f78aac6",
   "metadata": {},
   "outputs": [],
   "source": [
    "from nltk.stem import WordNetLemmatizer\n",
    "wordnet= WordNetLemmatizer()"
   ]
  },
  {
   "cell_type": "code",
   "execution_count": 24,
   "id": "ca5cdc5c",
   "metadata": {},
   "outputs": [],
   "source": [
    "def lemmatizer(text):\n",
    "    lemm_text = [wordnet.lemmatize(word) for word in text]\n",
    "    return lemm_text"
   ]
  },
  {
   "cell_type": "code",
   "execution_count": 25,
   "id": "71dec628",
   "metadata": {},
   "outputs": [],
   "source": [
    "data1['comment']=data1['comment'].apply(lambda x: lemmatizer(x))"
   ]
  },
  {
   "cell_type": "code",
   "execution_count": 26,
   "id": "365a3919",
   "metadata": {},
   "outputs": [],
   "source": [
    "data1['lemmatized'] = data1.comment.apply(lambda x: ' '.join(x))"
   ]
  },
  {
   "cell_type": "code",
   "execution_count": 27,
   "id": "e5621ec4",
   "metadata": {},
   "outputs": [
    {
     "name": "stderr",
     "output_type": "stream",
     "text": [
      "[nltk_data] Downloading package stopwords to\n",
      "[nltk_data]     C:\\Users\\Administrator\\AppData\\Roaming\\nltk_data...\n",
      "[nltk_data]   Package stopwords is already up-to-date!\n",
      "[nltk_data] Downloading package punkt to\n",
      "[nltk_data]     C:\\Users\\Administrator\\AppData\\Roaming\\nltk_data...\n",
      "[nltk_data]   Package punkt is already up-to-date!\n",
      "[nltk_data] Downloading package wordnet to\n",
      "[nltk_data]     C:\\Users\\Administrator\\AppData\\Roaming\\nltk_data...\n",
      "[nltk_data]   Package wordnet is already up-to-date!\n"
     ]
    },
    {
     "data": {
      "text/plain": [
       "True"
      ]
     },
     "execution_count": 27,
     "metadata": {},
     "output_type": "execute_result"
    }
   ],
   "source": [
    "#nltk\n",
    "import nltk\n",
    "from nltk.corpus import stopwords\n",
    "from nltk.tokenize import word_tokenize, sent_tokenize\n",
    "from nltk.stem import PorterStemmer, WordNetLemmatizer\n",
    "from nltk import tokenize\n",
    "from nltk.corpus import subjectivity\n",
    "from nltk.sentiment import SentimentAnalyzer, SentimentIntensityAnalyzer\n",
    "from nltk.sentiment.util import *\n",
    "import string\n",
    "string.punctuation\n",
    "\n",
    "#sci-kit learn\n",
    "from sklearn.feature_extraction.text import CountVectorizer, TfidfVectorizer\n",
    "import numpy as np\n",
    "nltk.download('stopwords')\n",
    "stop = stopwords.words('english')\n",
    "from nltk.stem import WordNetLemmatizer\n",
    "wordnet= WordNetLemmatizer()\n",
    "nltk.download('punkt')\n",
    "nltk.download('wordnet')"
   ]
  },
  {
   "cell_type": "code",
   "execution_count": 28,
   "id": "0a789189",
   "metadata": {},
   "outputs": [],
   "source": [
    "def remove_punctuation(text):\n",
    "    punctuationfree=\"\".join([i for i in text if i not in string.punctuation])\n",
    "    return punctuationfree"
   ]
  },
  {
   "cell_type": "code",
   "execution_count": 29,
   "id": "2f4dbe8f",
   "metadata": {},
   "outputs": [],
   "source": [
    "def lower(text):\n",
    "    return text.lower()"
   ]
  },
  {
   "cell_type": "code",
   "execution_count": 30,
   "id": "cc2af772",
   "metadata": {},
   "outputs": [],
   "source": [
    "def tokenization(text):\n",
    "    tokens =  nltk.word_tokenize(text)\n",
    "    return tokens"
   ]
  },
  {
   "cell_type": "code",
   "execution_count": 31,
   "id": "a3270f22",
   "metadata": {},
   "outputs": [],
   "source": [
    "def remove_stopWord(text):\n",
    "    output=[i for i in text if i not in stop]\n",
    "    return output"
   ]
  },
  {
   "cell_type": "code",
   "execution_count": 32,
   "id": "fff2c526",
   "metadata": {},
   "outputs": [],
   "source": [
    "def lemmatizer(words):\n",
    "    return [wordnet.lemmatize(word) for word in words]"
   ]
  },
  {
   "cell_type": "code",
   "execution_count": 33,
   "id": "dcf8deb4",
   "metadata": {},
   "outputs": [],
   "source": [
    "def preprocess(text):\n",
    "    text1=remove_punctuation(text)\n",
    "    text2=lower(text1)\n",
    "    word=tokenization(text2)\n",
    "    words=remove_stopWord(word)\n",
    "    final=lemmatizer(words)\n",
    "    return final"
   ]
  },
  {
   "cell_type": "code",
   "execution_count": 34,
   "id": "d8d0e53d",
   "metadata": {},
   "outputs": [],
   "source": [
    "data=pd.read_csv('IMDB Dataset.csv')"
   ]
  },
  {
   "cell_type": "code",
   "execution_count": 35,
   "id": "53be1af1",
   "metadata": {},
   "outputs": [],
   "source": [
    "data[\"review\"]=data[\"review\"].apply(lambda x: preprocess(x))"
   ]
  },
  {
   "cell_type": "code",
   "execution_count": 36,
   "id": "d6d460bf",
   "metadata": {},
   "outputs": [],
   "source": [
    "import inflect\n",
    "def replace_numbers(text):\n",
    "    p = inflect.engine()\n",
    "    new_words = []\n",
    "    for word in text:\n",
    "        if word.isdigit():\n",
    "            new_word = p.number_to_words(word)\n",
    "            new_words.append(new_word)\n",
    "        else:\n",
    "            new_words.append(word)\n",
    "    return new_words"
   ]
  },
  {
   "cell_type": "code",
   "execution_count": 37,
   "id": "0000774c",
   "metadata": {},
   "outputs": [],
   "source": [
    "data[\"review\"]=data[\"review\"].apply(lambda x:replace_numbers(x))"
   ]
  },
  {
   "cell_type": "code",
   "execution_count": 38,
   "id": "675fed1d",
   "metadata": {},
   "outputs": [],
   "source": [
    "data['lemmatized'] = data.review.apply(lambda x: ' '.join(x))"
   ]
  },
  {
   "cell_type": "code",
   "execution_count": 39,
   "id": "0b62572c",
   "metadata": {},
   "outputs": [],
   "source": [
    "from sklearn.feature_extraction.text import TfidfVectorizer\n",
    "from sklearn.model_selection import train_test_split\n",
    "from sklearn.svm import LinearSVC\n",
    "from sklearn.metrics import classification_report"
   ]
  },
  {
   "cell_type": "code",
   "execution_count": 40,
   "id": "0ea380a2",
   "metadata": {},
   "outputs": [],
   "source": [
    "tfidf=TfidfVectorizer(max_features=10000)"
   ]
  },
  {
   "cell_type": "code",
   "execution_count": 41,
   "id": "394f34b9",
   "metadata": {},
   "outputs": [],
   "source": [
    "x=data[\"lemmatized\"]\n",
    "y=data[\"sentiment\"]"
   ]
  },
  {
   "cell_type": "code",
   "execution_count": 42,
   "id": "a1e82a96",
   "metadata": {},
   "outputs": [
    {
     "data": {
      "text/plain": [
       "LinearSVC()"
      ]
     },
     "execution_count": 42,
     "metadata": {},
     "output_type": "execute_result"
    }
   ],
   "source": [
    "x=tfidf.fit_transform(x)\n",
    "clf=LinearSVC()\n",
    "clf.fit(x,y)"
   ]
  },
  {
   "cell_type": "code",
   "execution_count": 43,
   "id": "84677f75",
   "metadata": {},
   "outputs": [],
   "source": [
    "tf=data1[\"lemmatized\"]"
   ]
  },
  {
   "cell_type": "code",
   "execution_count": 44,
   "id": "c77dc555",
   "metadata": {},
   "outputs": [],
   "source": [
    "vc=tfidf.transform(tf)"
   ]
  },
  {
   "cell_type": "code",
   "execution_count": 45,
   "id": "1096370d",
   "metadata": {},
   "outputs": [],
   "source": [
    "y_pred=clf.predict(vc)"
   ]
  },
  {
   "cell_type": "code",
   "execution_count": 46,
   "id": "26c8aa2d",
   "metadata": {},
   "outputs": [
    {
     "data": {
      "text/html": [
       "<div>\n",
       "<style scoped>\n",
       "    .dataframe tbody tr th:only-of-type {\n",
       "        vertical-align: middle;\n",
       "    }\n",
       "\n",
       "    .dataframe tbody tr th {\n",
       "        vertical-align: top;\n",
       "    }\n",
       "\n",
       "    .dataframe thead th {\n",
       "        text-align: right;\n",
       "    }\n",
       "</style>\n",
       "<table border=\"1\" class=\"dataframe\">\n",
       "  <thead>\n",
       "    <tr style=\"text-align: right;\">\n",
       "      <th></th>\n",
       "      <th>0</th>\n",
       "    </tr>\n",
       "  </thead>\n",
       "  <tbody>\n",
       "    <tr>\n",
       "      <th>0</th>\n",
       "      <td>positive</td>\n",
       "    </tr>\n",
       "    <tr>\n",
       "      <th>1</th>\n",
       "      <td>negative</td>\n",
       "    </tr>\n",
       "    <tr>\n",
       "      <th>2</th>\n",
       "      <td>positive</td>\n",
       "    </tr>\n",
       "    <tr>\n",
       "      <th>3</th>\n",
       "      <td>positive</td>\n",
       "    </tr>\n",
       "    <tr>\n",
       "      <th>4</th>\n",
       "      <td>positive</td>\n",
       "    </tr>\n",
       "    <tr>\n",
       "      <th>...</th>\n",
       "      <td>...</td>\n",
       "    </tr>\n",
       "    <tr>\n",
       "      <th>81</th>\n",
       "      <td>negative</td>\n",
       "    </tr>\n",
       "    <tr>\n",
       "      <th>82</th>\n",
       "      <td>negative</td>\n",
       "    </tr>\n",
       "    <tr>\n",
       "      <th>83</th>\n",
       "      <td>negative</td>\n",
       "    </tr>\n",
       "    <tr>\n",
       "      <th>84</th>\n",
       "      <td>negative</td>\n",
       "    </tr>\n",
       "    <tr>\n",
       "      <th>85</th>\n",
       "      <td>positive</td>\n",
       "    </tr>\n",
       "  </tbody>\n",
       "</table>\n",
       "<p>86 rows × 1 columns</p>\n",
       "</div>"
      ],
      "text/plain": [
       "           0\n",
       "0   positive\n",
       "1   negative\n",
       "2   positive\n",
       "3   positive\n",
       "4   positive\n",
       "..       ...\n",
       "81  negative\n",
       "82  negative\n",
       "83  negative\n",
       "84  negative\n",
       "85  positive\n",
       "\n",
       "[86 rows x 1 columns]"
      ]
     },
     "execution_count": 46,
     "metadata": {},
     "output_type": "execute_result"
    }
   ],
   "source": [
    "data2=pd.DataFrame(y_pred)\n",
    "data2"
   ]
  },
  {
   "cell_type": "code",
   "execution_count": 47,
   "id": "13577082",
   "metadata": {},
   "outputs": [
    {
     "data": {
      "text/html": [
       "<div>\n",
       "<style scoped>\n",
       "    .dataframe tbody tr th:only-of-type {\n",
       "        vertical-align: middle;\n",
       "    }\n",
       "\n",
       "    .dataframe tbody tr th {\n",
       "        vertical-align: top;\n",
       "    }\n",
       "\n",
       "    .dataframe thead th {\n",
       "        text-align: right;\n",
       "    }\n",
       "</style>\n",
       "<table border=\"1\" class=\"dataframe\">\n",
       "  <thead>\n",
       "    <tr style=\"text-align: right;\">\n",
       "      <th></th>\n",
       "      <th>comment</th>\n",
       "      <th>lemmatized</th>\n",
       "      <th>0</th>\n",
       "    </tr>\n",
       "  </thead>\n",
       "  <tbody>\n",
       "    <tr>\n",
       "      <th>0</th>\n",
       "      <td>[Checkout, full, review, Redmi, Note, 11, Pro,...</td>\n",
       "      <td>Checkout full review Redmi Note 11 Pro 5G smar...</td>\n",
       "      <td>positive</td>\n",
       "    </tr>\n",
       "    <tr>\n",
       "      <th>1</th>\n",
       "      <td>[89.9, %, comment, like, ;, never, fails, make...</td>\n",
       "      <td>89.9 % comment like ; never fails make laugh c...</td>\n",
       "      <td>negative</td>\n",
       "    </tr>\n",
       "    <tr>\n",
       "      <th>2</th>\n",
       "      <td>[3:30, Sir, ,, checked, comparison, Snapdragon...</td>\n",
       "      <td>3:30 Sir , checked comparison Snapdragon 695 v...</td>\n",
       "      <td>positive</td>\n",
       "    </tr>\n",
       "    <tr>\n",
       "      <th>3</th>\n",
       "      <td>[You, one, indian, tech, industry, uploading, ...</td>\n",
       "      <td>You one indian tech industry uploading good vi...</td>\n",
       "      <td>positive</td>\n",
       "    </tr>\n",
       "    <tr>\n",
       "      <th>4</th>\n",
       "      <td>[That, 's, Simple, Wow, Presentation, 👏🔥👏😍]</td>\n",
       "      <td>That 's Simple Wow Presentation 👏🔥👏😍</td>\n",
       "      <td>positive</td>\n",
       "    </tr>\n",
       "    <tr>\n",
       "      <th>...</th>\n",
       "      <td>...</td>\n",
       "      <td>...</td>\n",
       "      <td>...</td>\n",
       "    </tr>\n",
       "    <tr>\n",
       "      <th>81</th>\n",
       "      <td>[Voice, changer]</td>\n",
       "      <td>Voice changer</td>\n",
       "      <td>negative</td>\n",
       "    </tr>\n",
       "    <tr>\n",
       "      <th>82</th>\n",
       "      <td>[1frrst]</td>\n",
       "      <td>1frrst</td>\n",
       "      <td>negative</td>\n",
       "    </tr>\n",
       "    <tr>\n",
       "      <th>83</th>\n",
       "      <td>[I, n't, like, phone, 📱, 😡, Yr, price, dekho, ...</td>\n",
       "      <td>I n't like phone 📱 😡 Yr price dekho 👎👎👎👎</td>\n",
       "      <td>negative</td>\n",
       "    </tr>\n",
       "    <tr>\n",
       "      <th>84</th>\n",
       "      <td>[Dabba, phn, hai, 😡, 😡, 😡, 😡]</td>\n",
       "      <td>Dabba phn hai 😡 😡 😡 😡</td>\n",
       "      <td>negative</td>\n",
       "    </tr>\n",
       "    <tr>\n",
       "      <th>85</th>\n",
       "      <td>[Checkout, full, review, Redmi, Note, 11, Pro,...</td>\n",
       "      <td>Checkout full review Redmi Note 11 Pro 5G smar...</td>\n",
       "      <td>positive</td>\n",
       "    </tr>\n",
       "  </tbody>\n",
       "</table>\n",
       "<p>86 rows × 3 columns</p>\n",
       "</div>"
      ],
      "text/plain": [
       "                                              comment  \\\n",
       "0   [Checkout, full, review, Redmi, Note, 11, Pro,...   \n",
       "1   [89.9, %, comment, like, ;, never, fails, make...   \n",
       "2   [3:30, Sir, ,, checked, comparison, Snapdragon...   \n",
       "3   [You, one, indian, tech, industry, uploading, ...   \n",
       "4         [That, 's, Simple, Wow, Presentation, 👏🔥👏😍]   \n",
       "..                                                ...   \n",
       "81                                   [Voice, changer]   \n",
       "82                                           [1frrst]   \n",
       "83  [I, n't, like, phone, 📱, 😡, Yr, price, dekho, ...   \n",
       "84                      [Dabba, phn, hai, 😡, 😡, 😡, 😡]   \n",
       "85  [Checkout, full, review, Redmi, Note, 11, Pro,...   \n",
       "\n",
       "                                           lemmatized         0  \n",
       "0   Checkout full review Redmi Note 11 Pro 5G smar...  positive  \n",
       "1   89.9 % comment like ; never fails make laugh c...  negative  \n",
       "2   3:30 Sir , checked comparison Snapdragon 695 v...  positive  \n",
       "3   You one indian tech industry uploading good vi...  positive  \n",
       "4                That 's Simple Wow Presentation 👏🔥👏😍  positive  \n",
       "..                                                ...       ...  \n",
       "81                                      Voice changer  negative  \n",
       "82                                             1frrst  negative  \n",
       "83           I n't like phone 📱 😡 Yr price dekho 👎👎👎👎  negative  \n",
       "84                              Dabba phn hai 😡 😡 😡 😡  negative  \n",
       "85  Checkout full review Redmi Note 11 Pro 5G smar...  positive  \n",
       "\n",
       "[86 rows x 3 columns]"
      ]
     },
     "execution_count": 47,
     "metadata": {},
     "output_type": "execute_result"
    }
   ],
   "source": [
    "data = pd.concat([data1, data2], axis=1)\n",
    "data"
   ]
  },
  {
   "cell_type": "code",
   "execution_count": 64,
   "id": "735fb3df",
   "metadata": {},
   "outputs": [],
   "source": [
    "data.columns.values[2] = \"sentiment\""
   ]
  },
  {
   "cell_type": "code",
   "execution_count": 65,
   "id": "41fbb83a",
   "metadata": {},
   "outputs": [
    {
     "data": {
      "text/html": [
       "<div>\n",
       "<style scoped>\n",
       "    .dataframe tbody tr th:only-of-type {\n",
       "        vertical-align: middle;\n",
       "    }\n",
       "\n",
       "    .dataframe tbody tr th {\n",
       "        vertical-align: top;\n",
       "    }\n",
       "\n",
       "    .dataframe thead th {\n",
       "        text-align: right;\n",
       "    }\n",
       "</style>\n",
       "<table border=\"1\" class=\"dataframe\">\n",
       "  <thead>\n",
       "    <tr style=\"text-align: right;\">\n",
       "      <th></th>\n",
       "      <th>comment</th>\n",
       "      <th>lemmatized</th>\n",
       "      <th>sentiment</th>\n",
       "    </tr>\n",
       "  </thead>\n",
       "  <tbody>\n",
       "    <tr>\n",
       "      <th>0</th>\n",
       "      <td>[Checkout, full, review, Redmi, Note, 11, Pro,...</td>\n",
       "      <td>Checkout full review Redmi Note 11 Pro 5G smar...</td>\n",
       "      <td>positive</td>\n",
       "    </tr>\n",
       "    <tr>\n",
       "      <th>1</th>\n",
       "      <td>[89.9, %, comment, like, ;, never, fails, make...</td>\n",
       "      <td>89.9 % comment like ; never fails make laugh c...</td>\n",
       "      <td>negative</td>\n",
       "    </tr>\n",
       "    <tr>\n",
       "      <th>2</th>\n",
       "      <td>[3:30, Sir, ,, checked, comparison, Snapdragon...</td>\n",
       "      <td>3:30 Sir , checked comparison Snapdragon 695 v...</td>\n",
       "      <td>positive</td>\n",
       "    </tr>\n",
       "    <tr>\n",
       "      <th>3</th>\n",
       "      <td>[You, one, indian, tech, industry, uploading, ...</td>\n",
       "      <td>You one indian tech industry uploading good vi...</td>\n",
       "      <td>positive</td>\n",
       "    </tr>\n",
       "    <tr>\n",
       "      <th>4</th>\n",
       "      <td>[That, 's, Simple, Wow, Presentation, 👏🔥👏😍]</td>\n",
       "      <td>That 's Simple Wow Presentation 👏🔥👏😍</td>\n",
       "      <td>positive</td>\n",
       "    </tr>\n",
       "    <tr>\n",
       "      <th>...</th>\n",
       "      <td>...</td>\n",
       "      <td>...</td>\n",
       "      <td>...</td>\n",
       "    </tr>\n",
       "    <tr>\n",
       "      <th>81</th>\n",
       "      <td>[Voice, changer]</td>\n",
       "      <td>Voice changer</td>\n",
       "      <td>negative</td>\n",
       "    </tr>\n",
       "    <tr>\n",
       "      <th>82</th>\n",
       "      <td>[1frrst]</td>\n",
       "      <td>1frrst</td>\n",
       "      <td>negative</td>\n",
       "    </tr>\n",
       "    <tr>\n",
       "      <th>83</th>\n",
       "      <td>[I, n't, like, phone, 📱, 😡, Yr, price, dekho, ...</td>\n",
       "      <td>I n't like phone 📱 😡 Yr price dekho 👎👎👎👎</td>\n",
       "      <td>negative</td>\n",
       "    </tr>\n",
       "    <tr>\n",
       "      <th>84</th>\n",
       "      <td>[Dabba, phn, hai, 😡, 😡, 😡, 😡]</td>\n",
       "      <td>Dabba phn hai 😡 😡 😡 😡</td>\n",
       "      <td>negative</td>\n",
       "    </tr>\n",
       "    <tr>\n",
       "      <th>85</th>\n",
       "      <td>[Checkout, full, review, Redmi, Note, 11, Pro,...</td>\n",
       "      <td>Checkout full review Redmi Note 11 Pro 5G smar...</td>\n",
       "      <td>positive</td>\n",
       "    </tr>\n",
       "  </tbody>\n",
       "</table>\n",
       "<p>86 rows × 3 columns</p>\n",
       "</div>"
      ],
      "text/plain": [
       "                                              comment  \\\n",
       "0   [Checkout, full, review, Redmi, Note, 11, Pro,...   \n",
       "1   [89.9, %, comment, like, ;, never, fails, make...   \n",
       "2   [3:30, Sir, ,, checked, comparison, Snapdragon...   \n",
       "3   [You, one, indian, tech, industry, uploading, ...   \n",
       "4         [That, 's, Simple, Wow, Presentation, 👏🔥👏😍]   \n",
       "..                                                ...   \n",
       "81                                   [Voice, changer]   \n",
       "82                                           [1frrst]   \n",
       "83  [I, n't, like, phone, 📱, 😡, Yr, price, dekho, ...   \n",
       "84                      [Dabba, phn, hai, 😡, 😡, 😡, 😡]   \n",
       "85  [Checkout, full, review, Redmi, Note, 11, Pro,...   \n",
       "\n",
       "                                           lemmatized sentiment  \n",
       "0   Checkout full review Redmi Note 11 Pro 5G smar...  positive  \n",
       "1   89.9 % comment like ; never fails make laugh c...  negative  \n",
       "2   3:30 Sir , checked comparison Snapdragon 695 v...  positive  \n",
       "3   You one indian tech industry uploading good vi...  positive  \n",
       "4                That 's Simple Wow Presentation 👏🔥👏😍  positive  \n",
       "..                                                ...       ...  \n",
       "81                                      Voice changer  negative  \n",
       "82                                             1frrst  negative  \n",
       "83           I n't like phone 📱 😡 Yr price dekho 👎👎👎👎  negative  \n",
       "84                              Dabba phn hai 😡 😡 😡 😡  negative  \n",
       "85  Checkout full review Redmi Note 11 Pro 5G smar...  positive  \n",
       "\n",
       "[86 rows x 3 columns]"
      ]
     },
     "execution_count": 65,
     "metadata": {},
     "output_type": "execute_result"
    }
   ],
   "source": [
    "data"
   ]
  },
  {
   "cell_type": "code",
   "execution_count": null,
   "id": "c8f6ee34",
   "metadata": {},
   "outputs": [],
   "source": [
    "stop = stopwords.words('english')"
   ]
  }
 ],
 "metadata": {
  "kernelspec": {
   "display_name": "Python 3 (ipykernel)",
   "language": "python",
   "name": "python3"
  },
  "language_info": {
   "codemirror_mode": {
    "name": "ipython",
    "version": 3
   },
   "file_extension": ".py",
   "mimetype": "text/x-python",
   "name": "python",
   "nbconvert_exporter": "python",
   "pygments_lexer": "ipython3",
   "version": "3.9.7"
  }
 },
 "nbformat": 4,
 "nbformat_minor": 5
}
