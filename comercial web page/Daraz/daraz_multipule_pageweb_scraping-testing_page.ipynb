{
 "cells": [
  {
   "cell_type": "code",
   "execution_count": 1,
   "id": "7076af02",
   "metadata": {},
   "outputs": [],
   "source": [
    "#imports here\n",
    "from selenium import webdriver\n",
    "from selenium.webdriver.common.keys import Keys\n",
    "from selenium.webdriver.support import expected_conditions as EC\n",
    "from selenium.webdriver.common.by import By\n",
    "from selenium.webdriver.support.wait import WebDriverWait\n",
    "from selenium import webdriver\n",
    "from selenium.webdriver.common.by import By\n",
    "import requests\n",
    "import io\n",
    "from PIL import Image\n",
    "import time\n",
    "import pandas as pd\n",
    "import numpy as np\n",
    "import requests\n",
    "from bs4 import BeautifulSoup\n",
    "from time import sleep\n",
    "from random import randint\n",
    "import urllib\n",
    "from selenium.webdriver.common.action_chains import ActionChains"
   ]
  },
  {
   "cell_type": "code",
   "execution_count": 2,
   "id": "2ed522dc",
   "metadata": {},
   "outputs": [
    {
     "name": "stderr",
     "output_type": "stream",
     "text": [
      "C:\\Users\\ADMINI~1\\AppData\\Local\\Temp/ipykernel_10820/2487939422.py:4: DeprecationWarning: executable_path has been deprecated, please pass in a Service object\n",
      "  wd = webdriver.Chrome(PATH)\n"
     ]
    }
   ],
   "source": [
    "#specify the path to chromedriver.exe (download and save on your computer)\n",
    "PATH = \"C:\\\\Users\\\\Administrator\\\\Desktop\\\\chromedriver.exe\"\n",
    "\n",
    "wd = webdriver.Chrome(PATH)"
   ]
  },
  {
   "cell_type": "code",
   "execution_count": 3,
   "id": "e513bc99",
   "metadata": {},
   "outputs": [],
   "source": [
    "pages = np.arange(1,2,1)"
   ]
  },
  {
   "cell_type": "code",
   "execution_count": 4,
   "id": "45ea2ddb",
   "metadata": {},
   "outputs": [
    {
     "name": "stderr",
     "output_type": "stream",
     "text": [
      "C:\\Users\\ADMINI~1\\AppData\\Local\\Temp/ipykernel_10820/2965382482.py:4: DeprecationWarning: use options instead of chrome_options\n",
      "  wd = webdriver.Chrome(chrome_options=chrome_options)\n"
     ]
    }
   ],
   "source": [
    "chrome_options = webdriver.ChromeOptions()\n",
    "prefs = {\"profile.default_content_setting_values.notifications\" : 2}\n",
    "chrome_options.add_experimental_option(\"prefs\",prefs)\n",
    "wd = webdriver.Chrome(chrome_options=chrome_options)"
   ]
  },
  {
   "cell_type": "code",
   "execution_count": 5,
   "id": "3566bd29",
   "metadata": {
    "scrolled": true
   },
   "outputs": [
    {
     "name": "stdout",
     "output_type": "stream",
     "text": [
      "['Umidigi A5 Pro - 6.3 inches FHD - 4GB RAM - 32GB ROM - 4150 mAh Battery']\n",
      "https://static-01.daraz.com.bd/p/670b77cfc2b8b3e6e2ee8d3612f8cfa4.jpg\n",
      "https://static-01.daraz.com.bd/p/670b77cfc2b8b3e6e2ee8d3612f8cfa4.jpg\n",
      "https://static-01.daraz.com.bd/p/693b7545989f9dc790d265ec3d7e406a.jpg\n",
      "1\n",
      "['Motorola G9 Play - 4Gb Ram/128Gb Rom - Snapdragon 662 - 48Mp Triple Camera - 5,000 Mah Battery']\n",
      "https://static-01.daraz.com.bd/p/d002c4ba80810140511d3d34e38b05a2.jpg\n",
      "https://static-01.daraz.com.bd/p/d002c4ba80810140511d3d34e38b05a2.jpg\n",
      "https://static-01.daraz.com.bd/p/392b6a21b1f0af1525cf52ad8e441d9b.jpg\n",
      "https://static-01.daraz.com.bd/p/dca0c02faf16e61f931d47ca84e1fb06.png\n",
      "https://static-01.daraz.com.bd/p/f53a00ad2ac1ce5f5c041dfed1b5b923.png\n",
      "2\n",
      "['OnePlus Nord CE 2 5G']\n",
      "https://static-01.daraz.com.bd/p/4c0304e09694f707969db20fb11ae17f.jpg\n",
      "https://static-01.daraz.com.bd/p/4c0304e09694f707969db20fb11ae17f.jpg\n",
      "https://static-01.daraz.com.bd/p/f05f3df1dce31f6d5f148b78e92df58d.jpg\n",
      "https://static-01.daraz.com.bd/p/8dbb6504e2ca6edea6e25471634d27cb.jpg\n",
      "3\n",
      "['Tecno SPARK GO 2022 - (2+32GB)']\n",
      "https://static-01.daraz.com.bd/p/b0d5aeb7747017672efd6ec41048d093.jpg\n",
      "https://static-01.daraz.com.bd/p/b0d5aeb7747017672efd6ec41048d093.jpg\n",
      "https://static-01.daraz.com.bd/p/d5dccdbcb1a5f742ed505d1245229afe.png\n",
      "4\n",
      "['Nokia 3.4 DS Smartphone 3GB RAM 64GB ROM']\n",
      "https://static-01.daraz.com.bd/p/cbc91c12589c7f0c718d616d3a998cf8.jpg\n",
      "https://static-01.daraz.com.bd/p/cbc91c12589c7f0c718d616d3a998cf8.jpg\n",
      "https://static-01.daraz.com.bd/p/mdc/4c2b34f4e2d885017d9cd23357e3874f.jpg\n",
      "https://static-01.daraz.com.bd/p/mdc/ad20a13788764e5b4aa90026abb46b76.jpg\n",
      "5\n"
     ]
    }
   ],
   "source": [
    "title=[]\n",
    "price=[]\n",
    "detail=[]\n",
    "images=[]\n",
    "\n",
    "for page in pages:\n",
    "    wd.get(\"https://www.daraz.com.bd/smartphones/?page=\"+str(page)+\"&spm=a2a0e.home.cate_1.1.735212f7kD2TtJ\")\n",
    "    soup = BeautifulSoup(wd.page_source, 'html.parser')\n",
    "    data = soup.findAll('div', attrs = {'class': 'c2prKC'})\n",
    "    i=0\n",
    "    number=0\n",
    "    for store in data:\n",
    "        button = wd.find_elements(By.CLASS_NAME, \"c2iYAv\")[i].click()\n",
    "        time.sleep(0.5)\n",
    "        soup = BeautifulSoup(wd.page_source, 'html.parser')\n",
    "        titles=soup.find_all('span',attrs={'class':'pdp-mod-product-badge-title'})\n",
    "        prices=soup.find_all('span',attrs={'class':'pdp-price pdp-price_type_normal pdp-price_color_orange pdp-price_size_xl'})\n",
    "        wd.execute_script(\"window.scrollBy(0,610)\")\n",
    "        time.sleep(0.5)\n",
    "        details=soup.find_all('div',attrs={'class':'pdp-product-detail'})\n",
    "        titleloop=[title.text for title in titles]\n",
    "        print(titleloop)\n",
    "        images=soup.find_all(\"img\", attrs={\"alt\":titleloop})\n",
    "        for image in images:\n",
    "            print(image[\"src\"])\n",
    "            image_src = image[\"src\"]\n",
    "            name=\"daraz/\"+str(number)+\".jpg\"\n",
    "            urllib.request.urlretrieve(image_src,name)\n",
    "            number=number+1\n",
    "        #images.append(imagess)\n",
    "        priceloop=[price.text for price in prices]\n",
    "        detailloop=[detail.text for detail in details]\n",
    "        title.append(titleloop)\n",
    "        price.append(priceloop)\n",
    "        detail.append(detailloop)\n",
    "        wd.back()\n",
    "        i=i+1\n",
    "        print(i)\n",
    "        if(i==5):\n",
    "            break\n",
    "        \n",
    "\n",
    "    #titleloop=[title.text for title in titles]\n",
    "        #title.append(titles)\n",
    "    #priceloop=[price.text for price in prices]\n",
    "        #price.append(prices)\n",
    "    #ratingloop=[rating.text for rating in ratings]\n",
    "        #rating.append(ratings)"
   ]
  },
  {
   "cell_type": "code",
   "execution_count": 6,
   "id": "2ab29ebc",
   "metadata": {},
   "outputs": [
    {
     "data": {
      "text/plain": [
       "<img alt=\"Nokia 3.4 DS Smartphone 3GB RAM 64GB ROM\" class=\"pdp-mod-common-image item-gallery__thumbnail-image\" src=\"https://static-01.daraz.com.bd/p/mdc/ad20a13788764e5b4aa90026abb46b76.jpg\" style=\"opacity: 1;\"/>"
      ]
     },
     "execution_count": 6,
     "metadata": {},
     "output_type": "execute_result"
    }
   ],
   "source": [
    "image"
   ]
  },
  {
   "cell_type": "code",
   "execution_count": 7,
   "id": "5b85558f",
   "metadata": {},
   "outputs": [],
   "source": [
    "data = pd.DataFrame({ \"Name\":title, \"Price\" : price,\"Details\":detail})"
   ]
  },
  {
   "cell_type": "code",
   "execution_count": 8,
   "id": "67c5bea8",
   "metadata": {},
   "outputs": [
    {
     "data": {
      "text/html": [
       "<div>\n",
       "<style scoped>\n",
       "    .dataframe tbody tr th:only-of-type {\n",
       "        vertical-align: middle;\n",
       "    }\n",
       "\n",
       "    .dataframe tbody tr th {\n",
       "        vertical-align: top;\n",
       "    }\n",
       "\n",
       "    .dataframe thead th {\n",
       "        text-align: right;\n",
       "    }\n",
       "</style>\n",
       "<table border=\"1\" class=\"dataframe\">\n",
       "  <thead>\n",
       "    <tr style=\"text-align: right;\">\n",
       "      <th></th>\n",
       "      <th>Name</th>\n",
       "      <th>Price</th>\n",
       "      <th>Details</th>\n",
       "    </tr>\n",
       "  </thead>\n",
       "  <tbody>\n",
       "    <tr>\n",
       "      <th>0</th>\n",
       "      <td>[Umidigi A5 Pro - 6.3 inches FHD - 4GB RAM - 3...</td>\n",
       "      <td>[৳ 11,729]</td>\n",
       "      <td>[]</td>\n",
       "    </tr>\n",
       "    <tr>\n",
       "      <th>1</th>\n",
       "      <td>[Motorola G9 Play - 4Gb Ram/128Gb Rom - Snapdr...</td>\n",
       "      <td>[৳ 13,999]</td>\n",
       "      <td>[]</td>\n",
       "    </tr>\n",
       "    <tr>\n",
       "      <th>2</th>\n",
       "      <td>[OnePlus Nord CE 2 5G]</td>\n",
       "      <td>[৳ 34,990]</td>\n",
       "      <td>[]</td>\n",
       "    </tr>\n",
       "    <tr>\n",
       "      <th>3</th>\n",
       "      <td>[Tecno SPARK GO 2022 - (2+32GB)]</td>\n",
       "      <td>[৳ 9,279]</td>\n",
       "      <td>[]</td>\n",
       "    </tr>\n",
       "    <tr>\n",
       "      <th>4</th>\n",
       "      <td>[Nokia 3.4 DS Smartphone 3GB RAM 64GB ROM]</td>\n",
       "      <td>[৳ 12,165]</td>\n",
       "      <td>[]</td>\n",
       "    </tr>\n",
       "  </tbody>\n",
       "</table>\n",
       "</div>"
      ],
      "text/plain": [
       "                                                Name       Price Details\n",
       "0  [Umidigi A5 Pro - 6.3 inches FHD - 4GB RAM - 3...  [৳ 11,729]      []\n",
       "1  [Motorola G9 Play - 4Gb Ram/128Gb Rom - Snapdr...  [৳ 13,999]      []\n",
       "2                             [OnePlus Nord CE 2 5G]  [৳ 34,990]      []\n",
       "3                   [Tecno SPARK GO 2022 - (2+32GB)]   [৳ 9,279]      []\n",
       "4         [Nokia 3.4 DS Smartphone 3GB RAM 64GB ROM]  [৳ 12,165]      []"
      ]
     },
     "execution_count": 8,
     "metadata": {},
     "output_type": "execute_result"
    }
   ],
   "source": [
    "data"
   ]
  },
  {
   "cell_type": "code",
   "execution_count": 9,
   "id": "3f748e85",
   "metadata": {},
   "outputs": [
    {
     "ename": "SyntaxError",
     "evalue": "invalid syntax (Temp/ipykernel_10820/1959690148.py, line 1)",
     "output_type": "error",
     "traceback": [
      "\u001b[1;36m  File \u001b[1;32m\"C:\\Users\\ADMINI~1\\AppData\\Local\\Temp/ipykernel_10820/1959690148.py\"\u001b[1;36m, line \u001b[1;32m1\u001b[0m\n\u001b[1;33m    =-\u001b[0m\n\u001b[1;37m    ^\u001b[0m\n\u001b[1;31mSyntaxError\u001b[0m\u001b[1;31m:\u001b[0m invalid syntax\n"
     ]
    }
   ],
   "source": [
    "=-"
   ]
  },
  {
   "cell_type": "code",
   "execution_count": null,
   "id": "7455c1b2",
   "metadata": {},
   "outputs": [],
   "source": [
    "data.to_csv(\"mobile_daraz.csv\")"
   ]
  },
  {
   "cell_type": "code",
   "execution_count": null,
   "id": "3c0b387c",
   "metadata": {},
   "outputs": [],
   "source": [
    "import pandas as pd\n",
    "import string\n",
    "\n",
    "#nltk\n",
    "import nltk\n",
    "from nltk.corpus import stopwords\n",
    "from nltk.tokenize import word_tokenize, sent_tokenize\n",
    "from nltk.stem import PorterStemmer, WordNetLemmatizer\n",
    "from nltk import tokenize\n",
    "from nltk.corpus import subjectivity\n",
    "from nltk.sentiment import SentimentAnalyzer, SentimentIntensityAnalyzer\n",
    "from nltk.sentiment.util import *\n",
    "\n",
    "#sci-kit learn\n",
    "from sklearn.feature_extraction.text import CountVectorizer, TfidfVectorizer\n",
    "import numpy as np\n",
    "nltk.download('stopwords')\n",
    "stop = stopwords.words('english')\n",
    "from nltk.stem import WordNetLemmatizer\n",
    "wordnet= WordNetLemmatizer()\n",
    "nltk.download('punkt')\n",
    "nltk.download('wordnet')"
   ]
  },
  {
   "cell_type": "code",
   "execution_count": null,
   "id": "6cb7d458",
   "metadata": {},
   "outputs": [],
   "source": [
    "def remove_punctuation(text):\n",
    "    punctuationfree=\"\".join([i for i in text if i not in string.punctuation])\n",
    "    return punctuationfree"
   ]
  },
  {
   "cell_type": "code",
   "execution_count": null,
   "id": "d14e0f36",
   "metadata": {},
   "outputs": [],
   "source": [
    "def lower(text):\n",
    "    return text.lower()"
   ]
  },
  {
   "cell_type": "code",
   "execution_count": null,
   "id": "e2a40b23",
   "metadata": {},
   "outputs": [],
   "source": [
    "def tokenization(text):\n",
    "    tokens =  nltk.word_tokenize(text)\n",
    "    return tokens"
   ]
  },
  {
   "cell_type": "code",
   "execution_count": null,
   "id": "80ef1162",
   "metadata": {},
   "outputs": [],
   "source": [
    "def remove_stopWord(text):\n",
    "    output=[i for i in text if i not in stop]\n",
    "    return output"
   ]
  },
  {
   "cell_type": "code",
   "execution_count": null,
   "id": "ec387b39",
   "metadata": {},
   "outputs": [],
   "source": [
    "def lemmatizer(words):\n",
    "    return [wordnet.lemmatize(word) for word in words]"
   ]
  },
  {
   "cell_type": "code",
   "execution_count": null,
   "id": "d7353969",
   "metadata": {},
   "outputs": [],
   "source": [
    "def preprocess(text):\n",
    "    text1=remove_punctuation(text)\n",
    "    text2=lower(text1)\n",
    "    word=tokenization(text2)\n",
    "    words=remove_stopWord(word)\n",
    "    final=lemmatizer(words)\n",
    "    return final"
   ]
  },
  {
   "cell_type": "code",
   "execution_count": null,
   "id": "54064988",
   "metadata": {},
   "outputs": [],
   "source": [
    "data['Name']=data['Name'].apply(lambda x:x.lower())"
   ]
  },
  {
   "cell_type": "code",
   "execution_count": null,
   "id": "8d354a0f",
   "metadata": {},
   "outputs": [],
   "source": [
    "data[\"Name\"]=data[\"Name\"].apply(lambda x: preprocess(x))"
   ]
  },
  {
   "cell_type": "code",
   "execution_count": null,
   "id": "826a200e",
   "metadata": {},
   "outputs": [],
   "source": [
    "data"
   ]
  },
  {
   "cell_type": "code",
   "execution_count": null,
   "id": "230fc632",
   "metadata": {},
   "outputs": [],
   "source": [
    "data[[\"Rating\",\"new\"]]=data['Rating'].str.split(\"B\", expand=True)\n",
    "data"
   ]
  },
  {
   "cell_type": "code",
   "execution_count": null,
   "id": "fa83138f",
   "metadata": {},
   "outputs": [],
   "source": [
    "data.drop(\"new\", axis=1, inplace=True)"
   ]
  },
  {
   "cell_type": "code",
   "execution_count": null,
   "id": "0e136f82",
   "metadata": {},
   "outputs": [],
   "source": [
    "data"
   ]
  },
  {
   "cell_type": "code",
   "execution_count": null,
   "id": "39efbdf7",
   "metadata": {},
   "outputs": [],
   "source": [
    "def replace(text):\n",
    "    return re.sub(r'','',text)"
   ]
  },
  {
   "cell_type": "code",
   "execution_count": null,
   "id": "251fdfea",
   "metadata": {},
   "outputs": [],
   "source": [
    "data[\"Rating\"]=data[\"Rating\"].apply(lambda x: replace(x))"
   ]
  },
  {
   "cell_type": "code",
   "execution_count": null,
   "id": "94a2daf0",
   "metadata": {},
   "outputs": [],
   "source": [
    "data"
   ]
  },
  {
   "cell_type": "code",
   "execution_count": null,
   "id": "faf23aba",
   "metadata": {},
   "outputs": [],
   "source": [
    "def replace(text):\n",
    "    return re.sub(r'৳','',text)"
   ]
  },
  {
   "cell_type": "code",
   "execution_count": null,
   "id": "9eb8d8b7",
   "metadata": {},
   "outputs": [],
   "source": [
    "data[\"Price\"]=data[\"Price\"].apply(lambda x: replace(x))"
   ]
  },
  {
   "cell_type": "code",
   "execution_count": null,
   "id": "c6cc7111",
   "metadata": {},
   "outputs": [],
   "source": [
    "data"
   ]
  },
  {
   "cell_type": "code",
   "execution_count": null,
   "id": "fa8681c7",
   "metadata": {},
   "outputs": [],
   "source": [
    "data.dtypes"
   ]
  },
  {
   "cell_type": "code",
   "execution_count": null,
   "id": "6e058b4d",
   "metadata": {},
   "outputs": [],
   "source": [
    "def replace(text):\n",
    "    return re.sub(r',','',text)"
   ]
  },
  {
   "cell_type": "code",
   "execution_count": null,
   "id": "ae1389c4",
   "metadata": {},
   "outputs": [],
   "source": [
    "data[\"Price\"]=data[\"Price\"].apply(lambda x: replace(x))"
   ]
  },
  {
   "cell_type": "code",
   "execution_count": null,
   "id": "dafbeb7b",
   "metadata": {},
   "outputs": [],
   "source": [
    "data.Price = data.Price.astype(int)"
   ]
  },
  {
   "cell_type": "code",
   "execution_count": null,
   "id": "0e8a1388",
   "metadata": {},
   "outputs": [],
   "source": [
    "data.drop(data[data['Price'] < 5000].index, inplace = True)"
   ]
  },
  {
   "cell_type": "code",
   "execution_count": null,
   "id": "746a16d6",
   "metadata": {},
   "outputs": [],
   "source": [
    "data"
   ]
  },
  {
   "cell_type": "code",
   "execution_count": null,
   "id": "7efe8259",
   "metadata": {},
   "outputs": [],
   "source": [
    "data['Name'] = data.Name.apply(lambda x: ' '.join(x))"
   ]
  },
  {
   "cell_type": "code",
   "execution_count": null,
   "id": "b3c37062",
   "metadata": {},
   "outputs": [],
   "source": [
    "data"
   ]
  },
  {
   "cell_type": "code",
   "execution_count": null,
   "id": "7f889262",
   "metadata": {},
   "outputs": [],
   "source": [
    "print(data.dtypes)\n",
    "data[\"Price\"]=data[\"Price\"].astype(np.object)\n",
    "print(data.dtypes)"
   ]
  },
  {
   "cell_type": "code",
   "execution_count": null,
   "id": "8d315dbb",
   "metadata": {},
   "outputs": [],
   "source": [
    "data.dtypes"
   ]
  },
  {
   "cell_type": "code",
   "execution_count": null,
   "id": "9eaa26bc",
   "metadata": {},
   "outputs": [],
   "source": [
    "from sklearn.feature_extraction.text import TfidfVectorizer\n",
    "from sklearn.model_selection import train_test_split\n",
    "from sklearn.svm import SVR\n",
    "from sklearn.tree import DecisionTreeRegressor\n",
    "from sklearn.metrics import classification_report"
   ]
  },
  {
   "cell_type": "code",
   "execution_count": null,
   "id": "2f6fee31",
   "metadata": {},
   "outputs": [],
   "source": [
    "tfidf=TfidfVectorizer(max_features=10000)"
   ]
  },
  {
   "cell_type": "code",
   "execution_count": null,
   "id": "dd48d7ff",
   "metadata": {},
   "outputs": [],
   "source": [
    "y=data[\"Price\"]\n",
    "x=data[\"Name\"]"
   ]
  },
  {
   "cell_type": "code",
   "execution_count": null,
   "id": "a10a5b51",
   "metadata": {},
   "outputs": [],
   "source": [
    "x=tfidf.fit_transform(x)"
   ]
  },
  {
   "cell_type": "code",
   "execution_count": null,
   "id": "9fdeff59",
   "metadata": {},
   "outputs": [],
   "source": [
    "x_train,x_test,y_train,y_test=train_test_split(x,y,test_size=0.2,random_state=0)"
   ]
  },
  {
   "cell_type": "code",
   "execution_count": null,
   "id": "25afd55b",
   "metadata": {},
   "outputs": [],
   "source": [
    "clf=DecisionTreeRegressor()http://localhost:8888/notebooks/Desktop/daraz_multipule_pageweb_scraping-testing_page.ipynb#"
   ]
  },
  {
   "cell_type": "code",
   "execution_count": null,
   "id": "a3e21dfb",
   "metadata": {},
   "outputs": [],
   "source": [
    "clf.fit(x_train,y_train)"
   ]
  },
  {
   "cell_type": "code",
   "execution_count": null,
   "id": "77623d96",
   "metadata": {},
   "outputs": [],
   "source": [
    "y_pred=clf.predict(x_test)"
   ]
  },
  {
   "cell_type": "code",
   "execution_count": null,
   "id": "52a31eb6",
   "metadata": {},
   "outputs": [],
   "source": [
    "from sklearn.metrics import r2_score\n",
    "r2_score(y_test,y_pred)"
   ]
  },
  {
   "cell_type": "code",
   "execution_count": null,
   "id": "8489e08d",
   "metadata": {},
   "outputs": [],
   "source": [
    "tf='INFINIX HOT 11S'\n",
    "vc=tfidf.transform([tf])"
   ]
  },
  {
   "cell_type": "code",
   "execution_count": null,
   "id": "26afe00d",
   "metadata": {},
   "outputs": [],
   "source": [
    "clf.predict(vc)"
   ]
  }
 ],
 "metadata": {
  "kernelspec": {
   "display_name": "Python 3 (ipykernel)",
   "language": "python",
   "name": "python3"
  },
  "language_info": {
   "codemirror_mode": {
    "name": "ipython",
    "version": 3
   },
   "file_extension": ".py",
   "mimetype": "text/x-python",
   "name": "python",
   "nbconvert_exporter": "python",
   "pygments_lexer": "ipython3",
   "version": "3.9.7"
  }
 },
 "nbformat": 4,
 "nbformat_minor": 5
}
