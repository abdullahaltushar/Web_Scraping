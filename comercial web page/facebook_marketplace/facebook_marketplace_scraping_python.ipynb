{
 "cells": [
  {
   "cell_type": "code",
   "execution_count": 1,
   "id": "04751721",
   "metadata": {},
   "outputs": [],
   "source": [
    "#imports here\n",
    "from selenium import webdriver\n",
    "from selenium.webdriver.common.keys import Keys\n",
    "from selenium.webdriver.support import expected_conditions as EC\n",
    "from selenium.webdriver.common.by import By\n",
    "from selenium.webdriver.support.wait import WebDriverWait\n",
    "from selenium import webdriver\n",
    "from selenium.webdriver.common.by import By\n",
    "import requests\n",
    "import io\n",
    "from PIL import Image\n",
    "import time"
   ]
  },
  {
   "cell_type": "code",
   "execution_count": 2,
   "id": "a22aea5a",
   "metadata": {
    "scrolled": true
   },
   "outputs": [
    {
     "name": "stderr",
     "output_type": "stream",
     "text": [
      "C:\\Users\\ADMINI~1\\AppData\\Local\\Temp/ipykernel_9992/2487939422.py:4: DeprecationWarning: executable_path has been deprecated, please pass in a Service object\n",
      "  wd = webdriver.Chrome(PATH)\n"
     ]
    }
   ],
   "source": [
    "#specify the path to chromedriver.exe (download and save on your computer)\n",
    "PATH = \"C:\\\\Users\\\\Administrator\\\\Desktop\\\\chromedriver.exe\"\n",
    "\n",
    "wd = webdriver.Chrome(PATH)"
   ]
  },
  {
   "cell_type": "code",
   "execution_count": 3,
   "id": "69fd575c",
   "metadata": {},
   "outputs": [
    {
     "name": "stderr",
     "output_type": "stream",
     "text": [
      "C:\\Users\\ADMINI~1\\AppData\\Local\\Temp/ipykernel_9992/1852681232.py:4: DeprecationWarning: use options instead of chrome_options\n",
      "  wd = webdriver.Chrome(chrome_options=chrome_options)\n"
     ]
    }
   ],
   "source": [
    "chrome_options = webdriver.ChromeOptions()\n",
    "prefs = {\"profile.default_content_setting_values.notifications\" : 2}\n",
    "chrome_options.add_experimental_option(\"prefs\",prefs)\n",
    "wd = webdriver.Chrome(chrome_options=chrome_options)\n",
    "wd.get(\"http://www.facebook.com\")"
   ]
  },
  {
   "cell_type": "code",
   "execution_count": 4,
   "id": "c8048e67",
   "metadata": {},
   "outputs": [],
   "source": [
    "#target username\n",
    "username = WebDriverWait(wd, 10).until(EC.element_to_be_clickable((By.CSS_SELECTOR, \"input[name='email']\")))\n",
    "password = WebDriverWait(wd, 10).until(EC.element_to_be_clickable((By.CSS_SELECTOR, \"input[name='pass']\")))\n",
    "\n",
    "#enter username and password\n",
    "username.clear()\n",
    "username.send_keys(\"abdullahaltushar12@gmail.com\")\n",
    "password.clear()\n",
    "password.send_keys(\"\")\n",
    "\n",
    "#target the login button and click it\n",
    "button = WebDriverWait(wd, 2).until(EC.element_to_be_clickable((By.CSS_SELECTOR, \"button[type='submit']\"))).click()\n"
   ]
  },
  {
   "cell_type": "code",
   "execution_count": 12,
   "id": "a0468fa6",
   "metadata": {},
   "outputs": [],
   "source": [
    "import pandas as pd\n",
    "import requests\n",
    "from bs4 import BeautifulSoup\n",
    "wd.get('https://www.facebook.com/marketplace/?ref=app_tab')\n",
    "\n",
    "for x in range(1, 4):\n",
    "    wd.execute_script(\"window.scrollTo(0,document.body.scrollHeight)\")\n",
    "    time.sleep(5)\n",
    "\n",
    "soup = BeautifulSoup(wd.page_source, 'html.parser')\n",
    "\n",
    "titles=soup.find_all('span',attrs={'class':'d2edcug0 hpfvmrgz qv66sw1b c1et5uql lr9zc1uh a8c37x1j fe6kdd0r mau55g9w c8b282yb keod5gw0 nxhoafnm aigsh9s9 d3f4x2em mdeji52x jagab5yi g1cxx5fr lrazzd5p oo9gr5id'})\n",
    "comments=soup.find_all('span',attrs={'class':'a8c37x1j ni8dbmo4 stjgntxs l9j0dhe7'})\n",
    "\n",
    "titleloop=[title.text for title in titles]\n",
    "commentloop=[comment.text for comment in comments]\n"
   ]
  },
  {
   "cell_type": "code",
   "execution_count": 19,
   "id": "1666a392",
   "metadata": {},
   "outputs": [
    {
     "data": {
      "text/plain": [
       "[]"
      ]
     },
     "execution_count": 19,
     "metadata": {},
     "output_type": "execute_result"
    }
   ],
   "source": [
    "titles"
   ]
  },
  {
   "cell_type": "code",
   "execution_count": 6,
   "id": "ff9eef28",
   "metadata": {},
   "outputs": [],
   "source": [
    "# import pandas as pd\n",
    "# import requests\n",
    "# from bs4 import BeautifulSoup\n",
    "# wd.get('https://www.facebook.com/')\n",
    "\n",
    "# for x in range(1, 4):\n",
    "#     wd.execute_script(\"window.scrollTo(0,document.body.scrollHeight)\")\n",
    "#     time.sleep(5)\n",
    "\n",
    "# soup = BeautifulSoup(wd.page_source, 'html.parser')\n",
    "\n",
    "# titles=soup.find_all('span',attrs={'class':'nc684nl6'})\n",
    "# comments=soup.find_all('div',attrs={'class':'kvgmc6g5 cxmmr5t8 oygrvhab hcukyx3x c1et5uql'})\n",
    "\n",
    "# titleloop=[title.text for title in titles]\n",
    "# commentloop=[comment.text for comment in comments]"
   ]
  },
  {
   "cell_type": "code",
   "execution_count": 13,
   "id": "12ea3557",
   "metadata": {},
   "outputs": [],
   "source": [
    "data={'Name':commentloop, 'price':titleloop}"
   ]
  },
  {
   "cell_type": "code",
   "execution_count": 14,
   "id": "539c8e50",
   "metadata": {},
   "outputs": [],
   "source": [
    "# data={'Name':commentloop, 'comment':titleloop}"
   ]
  },
  {
   "cell_type": "code",
   "execution_count": 16,
   "id": "c266d279",
   "metadata": {},
   "outputs": [
    {
     "data": {
      "text/html": [
       "<div>\n",
       "<style scoped>\n",
       "    .dataframe tbody tr th:only-of-type {\n",
       "        vertical-align: middle;\n",
       "    }\n",
       "\n",
       "    .dataframe tbody tr th {\n",
       "        vertical-align: top;\n",
       "    }\n",
       "\n",
       "    .dataframe thead th {\n",
       "        text-align: right;\n",
       "    }\n",
       "</style>\n",
       "<table border=\"1\" class=\"dataframe\">\n",
       "  <thead>\n",
       "    <tr style=\"text-align: right;\">\n",
       "      <th></th>\n",
       "      <th>Name</th>\n",
       "      <th>price</th>\n",
       "    </tr>\n",
       "  </thead>\n",
       "  <tbody>\n",
       "  </tbody>\n",
       "</table>\n",
       "</div>"
      ],
      "text/plain": [
       "Empty DataFrame\n",
       "Columns: [Name, price]\n",
       "Index: []"
      ]
     },
     "execution_count": 16,
     "metadata": {},
     "output_type": "execute_result"
    }
   ],
   "source": [
    "data=pd.DataFrame(data,columns=['Name','price'])\n",
    "data"
   ]
  },
  {
   "cell_type": "code",
   "execution_count": null,
   "id": "f36bf580",
   "metadata": {},
   "outputs": [],
   "source": [
    "# data=pd.DataFrame(data,columns=['Name','comment'])\n",
    "# data"
   ]
  },
  {
   "cell_type": "code",
   "execution_count": null,
   "id": "ccb85820",
   "metadata": {},
   "outputs": [],
   "source": []
  }
 ],
 "metadata": {
  "kernelspec": {
   "display_name": "Python 3 (ipykernel)",
   "language": "python",
   "name": "python3"
  },
  "language_info": {
   "codemirror_mode": {
    "name": "ipython",
    "version": 3
   },
   "file_extension": ".py",
   "mimetype": "text/x-python",
   "name": "python",
   "nbconvert_exporter": "python",
   "pygments_lexer": "ipython3",
   "version": "3.9.7"
  }
 },
 "nbformat": 4,
 "nbformat_minor": 5
}
