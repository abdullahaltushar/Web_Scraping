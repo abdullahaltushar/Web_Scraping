{
 "cells": [
  {
   "cell_type": "code",
   "execution_count": 1,
   "id": "7076af02",
   "metadata": {},
   "outputs": [],
   "source": [
    "#imports here\n",
    "from selenium import webdriver\n",
    "from selenium.webdriver.common.keys import Keys\n",
    "from selenium.webdriver.support import expected_conditions as EC\n",
    "from selenium.webdriver.common.by import By\n",
    "from selenium.webdriver.support.wait import WebDriverWait\n",
    "from selenium import webdriver\n",
    "from selenium.webdriver.common.by import By\n",
    "import requests\n",
    "import io\n",
    "from PIL import Image\n",
    "import time\n",
    "import pandas as pd\n",
    "import numpy as np\n",
    "import requests\n",
    "from bs4 import BeautifulSoup\n",
    "from time import sleep\n",
    "from random import randint"
   ]
  },
  {
   "cell_type": "code",
   "execution_count": 2,
   "id": "2ed522dc",
   "metadata": {},
   "outputs": [
    {
     "name": "stderr",
     "output_type": "stream",
     "text": [
      "C:\\Users\\ADMINI~1\\AppData\\Local\\Temp/ipykernel_10996/2487939422.py:4: DeprecationWarning: executable_path has been deprecated, please pass in a Service object\n",
      "  wd = webdriver.Chrome(PATH)\n"
     ]
    }
   ],
   "source": [
    "#specify the path to chromedriver.exe (download and save on your computer)\n",
    "PATH = \"C:\\\\Users\\\\Administrator\\\\Desktop\\\\chromedriver.exe\"\n",
    "\n",
    "wd = webdriver.Chrome(PATH)"
   ]
  },
  {
   "cell_type": "code",
   "execution_count": 3,
   "id": "e513bc99",
   "metadata": {},
   "outputs": [],
   "source": [
    "pages = np.arange(1,100,1)"
   ]
  },
  {
   "cell_type": "code",
   "execution_count": 4,
   "id": "45ea2ddb",
   "metadata": {},
   "outputs": [
    {
     "name": "stderr",
     "output_type": "stream",
     "text": [
      "C:\\Users\\ADMINI~1\\AppData\\Local\\Temp/ipykernel_10996/2965382482.py:4: DeprecationWarning: use options instead of chrome_options\n",
      "  wd = webdriver.Chrome(chrome_options=chrome_options)\n"
     ]
    }
   ],
   "source": [
    "chrome_options = webdriver.ChromeOptions()\n",
    "prefs = {\"profile.default_content_setting_values.notifications\" : 2}\n",
    "chrome_options.add_experimental_option(\"prefs\",prefs)\n",
    "wd = webdriver.Chrome(chrome_options=chrome_options)"
   ]
  },
  {
   "cell_type": "code",
   "execution_count": 5,
   "id": "3566bd29",
   "metadata": {},
   "outputs": [],
   "source": [
    "title=[]\n",
    "price=[]\n",
    "rating=[]\n",
    "for page in pages:\n",
    "    wd.get(\"https://www.daraz.com.bd/smartphones/?page=\"+str(page)+\"&spm=a2a0e.home.cate_1.1.735212f7kD2TtJ\")\n",
    "    soup = BeautifulSoup(wd.page_source, 'html.parser')\n",
    "    data = soup.findAll('div', attrs = {'class': 'c2prKC'})\n",
    "    for store in data:\n",
    "        titles=store.find('div',attrs={'class':'c16H9d'}).text\n",
    "        prices=store.find('span',attrs={'class':'c13VH6'}).text\n",
    "        ratings=store.find('div',attrs={'class':'c15YQ9'}).text\n",
    "\n",
    "\n",
    "    #titleloop=[title.text for title in titles]\n",
    "        title.append(titles)\n",
    "    #priceloop=[price.text for price in prices]\n",
    "        price.append(prices)\n",
    "    #ratingloop=[rating.text for rating in ratings]\n",
    "        rating.append(ratings)"
   ]
  },
  {
   "cell_type": "code",
   "execution_count": 6,
   "id": "5b85558f",
   "metadata": {},
   "outputs": [],
   "source": [
    "data = pd.DataFrame({ \"Name\":title, \"Price\" : price, \"Rating\": rating})"
   ]
  },
  {
   "cell_type": "code",
   "execution_count": 7,
   "id": "67c5bea8",
   "metadata": {},
   "outputs": [
    {
     "data": {
      "text/html": [
       "<div>\n",
       "<style scoped>\n",
       "    .dataframe tbody tr th:only-of-type {\n",
       "        vertical-align: middle;\n",
       "    }\n",
       "\n",
       "    .dataframe tbody tr th {\n",
       "        vertical-align: top;\n",
       "    }\n",
       "\n",
       "    .dataframe thead th {\n",
       "        text-align: right;\n",
       "    }\n",
       "</style>\n",
       "<table border=\"1\" class=\"dataframe\">\n",
       "  <thead>\n",
       "    <tr style=\"text-align: right;\">\n",
       "      <th></th>\n",
       "      <th>Name</th>\n",
       "      <th>Price</th>\n",
       "      <th>Rating</th>\n",
       "    </tr>\n",
       "  </thead>\n",
       "  <tbody>\n",
       "    <tr>\n",
       "      <th>0</th>\n",
       "      <td>realme C21Y - 4GB RAM / 64GB ROM</td>\n",
       "      <td>৳ 12,322</td>\n",
       "      <td>(209)Bangladesh</td>\n",
       "    </tr>\n",
       "    <tr>\n",
       "      <th>1</th>\n",
       "      <td>Realme 8 - 8GB RAM / 128GB ROM - 5000 mAh Battery</td>\n",
       "      <td>৳ 21,930</td>\n",
       "      <td>(204)Bangladesh</td>\n",
       "    </tr>\n",
       "    <tr>\n",
       "      <th>2</th>\n",
       "      <td>realme 9i (4GB+64GB)</td>\n",
       "      <td>৳ 16,847</td>\n",
       "      <td>(37)Bangladesh</td>\n",
       "    </tr>\n",
       "    <tr>\n",
       "      <th>3</th>\n",
       "      <td>Realme C25S - 4Gb / 128Gb 6000Mah Battery</td>\n",
       "      <td>৳ 15,342</td>\n",
       "      <td>(312)Bangladesh</td>\n",
       "    </tr>\n",
       "    <tr>\n",
       "      <th>4</th>\n",
       "      <td>realme C25Y - (4GB Ram /64GB Rom)</td>\n",
       "      <td>৳ 13,291</td>\n",
       "      <td>(235)Bangladesh</td>\n",
       "    </tr>\n",
       "    <tr>\n",
       "      <th>...</th>\n",
       "      <td>...</td>\n",
       "      <td>...</td>\n",
       "      <td>...</td>\n",
       "    </tr>\n",
       "    <tr>\n",
       "      <th>843</th>\n",
       "      <td>invens MAX3 Smartphone</td>\n",
       "      <td>৳ 4,170</td>\n",
       "      <td>(2)Bangladesh</td>\n",
       "    </tr>\n",
       "    <tr>\n",
       "      <th>844</th>\n",
       "      <td>Invens Maxtop1 2GB RAM Smartphone</td>\n",
       "      <td>৳ 4,170</td>\n",
       "      <td>(2)Bangladesh</td>\n",
       "    </tr>\n",
       "    <tr>\n",
       "      <th>845</th>\n",
       "      <td>invens Royal R2 Smartphone</td>\n",
       "      <td>৳ 3,499</td>\n",
       "      <td>(1)Bangladesh</td>\n",
       "    </tr>\n",
       "    <tr>\n",
       "      <th>846</th>\n",
       "      <td>BiRD F07 Smartphone</td>\n",
       "      <td>৳ 3,299</td>\n",
       "      <td>(4)Bangladesh</td>\n",
       "    </tr>\n",
       "    <tr>\n",
       "      <th>847</th>\n",
       "      <td>BiRD Smartphone E5018 4G Mobile</td>\n",
       "      <td>৳ 4,490</td>\n",
       "      <td>Bangladesh</td>\n",
       "    </tr>\n",
       "  </tbody>\n",
       "</table>\n",
       "<p>848 rows × 3 columns</p>\n",
       "</div>"
      ],
      "text/plain": [
       "                                                  Name     Price  \\\n",
       "0                     realme C21Y - 4GB RAM / 64GB ROM  ৳ 12,322   \n",
       "1    Realme 8 - 8GB RAM / 128GB ROM - 5000 mAh Battery  ৳ 21,930   \n",
       "2                                 realme 9i (4GB+64GB)  ৳ 16,847   \n",
       "3            Realme C25S - 4Gb / 128Gb 6000Mah Battery  ৳ 15,342   \n",
       "4                    realme C25Y - (4GB Ram /64GB Rom)  ৳ 13,291   \n",
       "..                                                 ...       ...   \n",
       "843                             invens MAX3 Smartphone   ৳ 4,170   \n",
       "844                  Invens Maxtop1 2GB RAM Smartphone   ৳ 4,170   \n",
       "845                         invens Royal R2 Smartphone   ৳ 3,499   \n",
       "846                                BiRD F07 Smartphone   ৳ 3,299   \n",
       "847                    BiRD Smartphone E5018 4G Mobile   ৳ 4,490   \n",
       "\n",
       "              Rating  \n",
       "0    (209)Bangladesh  \n",
       "1    (204)Bangladesh  \n",
       "2     (37)Bangladesh  \n",
       "3    (312)Bangladesh  \n",
       "4    (235)Bangladesh  \n",
       "..               ...  \n",
       "843    (2)Bangladesh  \n",
       "844    (2)Bangladesh  \n",
       "845    (1)Bangladesh  \n",
       "846    (4)Bangladesh  \n",
       "847       Bangladesh  \n",
       "\n",
       "[848 rows x 3 columns]"
      ]
     },
     "execution_count": 7,
     "metadata": {},
     "output_type": "execute_result"
    }
   ],
   "source": [
    "\n",
    "data"
   ]
  },
  {
   "cell_type": "code",
   "execution_count": 8,
   "id": "3c0b387c",
   "metadata": {},
   "outputs": [
    {
     "name": "stderr",
     "output_type": "stream",
     "text": [
      "[nltk_data] Downloading package stopwords to\n",
      "[nltk_data]     C:\\Users\\Administrator\\AppData\\Roaming\\nltk_data...\n",
      "[nltk_data]   Package stopwords is already up-to-date!\n",
      "[nltk_data] Downloading package punkt to\n",
      "[nltk_data]     C:\\Users\\Administrator\\AppData\\Roaming\\nltk_data...\n",
      "[nltk_data]   Package punkt is already up-to-date!\n",
      "[nltk_data] Downloading package wordnet to\n",
      "[nltk_data]     C:\\Users\\Administrator\\AppData\\Roaming\\nltk_data...\n",
      "[nltk_data]   Package wordnet is already up-to-date!\n"
     ]
    },
    {
     "data": {
      "text/plain": [
       "True"
      ]
     },
     "execution_count": 8,
     "metadata": {},
     "output_type": "execute_result"
    }
   ],
   "source": [
    "import pandas as pd\n",
    "import string\n",
    "\n",
    "#nltk\n",
    "import nltk\n",
    "from nltk.corpus import stopwords\n",
    "from nltk.tokenize import word_tokenize, sent_tokenize\n",
    "from nltk.stem import PorterStemmer, WordNetLemmatizer\n",
    "from nltk import tokenize\n",
    "from nltk.corpus import subjectivity\n",
    "from nltk.sentiment import SentimentAnalyzer, SentimentIntensityAnalyzer\n",
    "from nltk.sentiment.util import *\n",
    "\n",
    "#sci-kit learn\n",
    "from sklearn.feature_extraction.text import CountVectorizer, TfidfVectorizer\n",
    "import numpy as np\n",
    "nltk.download('stopwords')\n",
    "stop = stopwords.words('english')\n",
    "from nltk.stem import WordNetLemmatizer\n",
    "wordnet= WordNetLemmatizer()\n",
    "nltk.download('punkt')\n",
    "nltk.download('wordnet')"
   ]
  },
  {
   "cell_type": "code",
   "execution_count": 9,
   "id": "6cb7d458",
   "metadata": {},
   "outputs": [],
   "source": [
    "def remove_punctuation(text):\n",
    "    punctuationfree=\"\".join([i for i in text if i not in string.punctuation])\n",
    "    return punctuationfree"
   ]
  },
  {
   "cell_type": "code",
   "execution_count": 10,
   "id": "d14e0f36",
   "metadata": {},
   "outputs": [],
   "source": [
    "def lower(text):\n",
    "    return text.lower()"
   ]
  },
  {
   "cell_type": "code",
   "execution_count": 11,
   "id": "e2a40b23",
   "metadata": {},
   "outputs": [],
   "source": [
    "def tokenization(text):\n",
    "    tokens =  nltk.word_tokenize(text)\n",
    "    return tokens"
   ]
  },
  {
   "cell_type": "code",
   "execution_count": 12,
   "id": "80ef1162",
   "metadata": {},
   "outputs": [],
   "source": [
    "def remove_stopWord(text):\n",
    "    output=[i for i in text if i not in stop]\n",
    "    return output"
   ]
  },
  {
   "cell_type": "code",
   "execution_count": 13,
   "id": "ec387b39",
   "metadata": {},
   "outputs": [],
   "source": [
    "def lemmatizer(words):\n",
    "    return [wordnet.lemmatize(word) for word in words]"
   ]
  },
  {
   "cell_type": "code",
   "execution_count": 14,
   "id": "d7353969",
   "metadata": {},
   "outputs": [],
   "source": [
    "def preprocess(text):\n",
    "    text1=remove_punctuation(text)\n",
    "    text2=lower(text1)\n",
    "    word=tokenization(text2)\n",
    "    words=remove_stopWord(word)\n",
    "    final=lemmatizer(words)\n",
    "    return final"
   ]
  },
  {
   "cell_type": "code",
   "execution_count": 15,
   "id": "54064988",
   "metadata": {},
   "outputs": [],
   "source": [
    "data['Name']=data['Name'].apply(lambda x:x.lower())"
   ]
  },
  {
   "cell_type": "code",
   "execution_count": 16,
   "id": "8d354a0f",
   "metadata": {},
   "outputs": [],
   "source": [
    "data[\"Name\"]=data[\"Name\"].apply(lambda x: preprocess(x))"
   ]
  },
  {
   "cell_type": "code",
   "execution_count": 17,
   "id": "826a200e",
   "metadata": {},
   "outputs": [
    {
     "data": {
      "text/html": [
       "<div>\n",
       "<style scoped>\n",
       "    .dataframe tbody tr th:only-of-type {\n",
       "        vertical-align: middle;\n",
       "    }\n",
       "\n",
       "    .dataframe tbody tr th {\n",
       "        vertical-align: top;\n",
       "    }\n",
       "\n",
       "    .dataframe thead th {\n",
       "        text-align: right;\n",
       "    }\n",
       "</style>\n",
       "<table border=\"1\" class=\"dataframe\">\n",
       "  <thead>\n",
       "    <tr style=\"text-align: right;\">\n",
       "      <th></th>\n",
       "      <th>Name</th>\n",
       "      <th>Price</th>\n",
       "      <th>Rating</th>\n",
       "    </tr>\n",
       "  </thead>\n",
       "  <tbody>\n",
       "    <tr>\n",
       "      <th>0</th>\n",
       "      <td>[realme, c21y, 4gb, ram, 64gb, rom]</td>\n",
       "      <td>৳ 12,322</td>\n",
       "      <td>(209)Bangladesh</td>\n",
       "    </tr>\n",
       "    <tr>\n",
       "      <th>1</th>\n",
       "      <td>[realme, 8, 8gb, ram, 128gb, rom, 5000, mah, b...</td>\n",
       "      <td>৳ 21,930</td>\n",
       "      <td>(204)Bangladesh</td>\n",
       "    </tr>\n",
       "    <tr>\n",
       "      <th>2</th>\n",
       "      <td>[realme, 9i, 4gb64gb]</td>\n",
       "      <td>৳ 16,847</td>\n",
       "      <td>(37)Bangladesh</td>\n",
       "    </tr>\n",
       "    <tr>\n",
       "      <th>3</th>\n",
       "      <td>[realme, c25s, 4gb, 128gb, 6000mah, battery]</td>\n",
       "      <td>৳ 15,342</td>\n",
       "      <td>(312)Bangladesh</td>\n",
       "    </tr>\n",
       "    <tr>\n",
       "      <th>4</th>\n",
       "      <td>[realme, c25y, 4gb, ram, 64gb, rom]</td>\n",
       "      <td>৳ 13,291</td>\n",
       "      <td>(235)Bangladesh</td>\n",
       "    </tr>\n",
       "    <tr>\n",
       "      <th>...</th>\n",
       "      <td>...</td>\n",
       "      <td>...</td>\n",
       "      <td>...</td>\n",
       "    </tr>\n",
       "    <tr>\n",
       "      <th>843</th>\n",
       "      <td>[invens, max3, smartphone]</td>\n",
       "      <td>৳ 4,170</td>\n",
       "      <td>(2)Bangladesh</td>\n",
       "    </tr>\n",
       "    <tr>\n",
       "      <th>844</th>\n",
       "      <td>[invens, maxtop1, 2gb, ram, smartphone]</td>\n",
       "      <td>৳ 4,170</td>\n",
       "      <td>(2)Bangladesh</td>\n",
       "    </tr>\n",
       "    <tr>\n",
       "      <th>845</th>\n",
       "      <td>[invens, royal, r2, smartphone]</td>\n",
       "      <td>৳ 3,499</td>\n",
       "      <td>(1)Bangladesh</td>\n",
       "    </tr>\n",
       "    <tr>\n",
       "      <th>846</th>\n",
       "      <td>[bird, f07, smartphone]</td>\n",
       "      <td>৳ 3,299</td>\n",
       "      <td>(4)Bangladesh</td>\n",
       "    </tr>\n",
       "    <tr>\n",
       "      <th>847</th>\n",
       "      <td>[bird, smartphone, e5018, 4g, mobile]</td>\n",
       "      <td>৳ 4,490</td>\n",
       "      <td>Bangladesh</td>\n",
       "    </tr>\n",
       "  </tbody>\n",
       "</table>\n",
       "<p>848 rows × 3 columns</p>\n",
       "</div>"
      ],
      "text/plain": [
       "                                                  Name     Price  \\\n",
       "0                  [realme, c21y, 4gb, ram, 64gb, rom]  ৳ 12,322   \n",
       "1    [realme, 8, 8gb, ram, 128gb, rom, 5000, mah, b...  ৳ 21,930   \n",
       "2                                [realme, 9i, 4gb64gb]  ৳ 16,847   \n",
       "3         [realme, c25s, 4gb, 128gb, 6000mah, battery]  ৳ 15,342   \n",
       "4                  [realme, c25y, 4gb, ram, 64gb, rom]  ৳ 13,291   \n",
       "..                                                 ...       ...   \n",
       "843                         [invens, max3, smartphone]   ৳ 4,170   \n",
       "844            [invens, maxtop1, 2gb, ram, smartphone]   ৳ 4,170   \n",
       "845                    [invens, royal, r2, smartphone]   ৳ 3,499   \n",
       "846                            [bird, f07, smartphone]   ৳ 3,299   \n",
       "847              [bird, smartphone, e5018, 4g, mobile]   ৳ 4,490   \n",
       "\n",
       "              Rating  \n",
       "0    (209)Bangladesh  \n",
       "1    (204)Bangladesh  \n",
       "2     (37)Bangladesh  \n",
       "3    (312)Bangladesh  \n",
       "4    (235)Bangladesh  \n",
       "..               ...  \n",
       "843    (2)Bangladesh  \n",
       "844    (2)Bangladesh  \n",
       "845    (1)Bangladesh  \n",
       "846    (4)Bangladesh  \n",
       "847       Bangladesh  \n",
       "\n",
       "[848 rows x 3 columns]"
      ]
     },
     "execution_count": 17,
     "metadata": {},
     "output_type": "execute_result"
    }
   ],
   "source": [
    "data"
   ]
  },
  {
   "cell_type": "code",
   "execution_count": 18,
   "id": "230fc632",
   "metadata": {},
   "outputs": [
    {
     "data": {
      "text/html": [
       "<div>\n",
       "<style scoped>\n",
       "    .dataframe tbody tr th:only-of-type {\n",
       "        vertical-align: middle;\n",
       "    }\n",
       "\n",
       "    .dataframe tbody tr th {\n",
       "        vertical-align: top;\n",
       "    }\n",
       "\n",
       "    .dataframe thead th {\n",
       "        text-align: right;\n",
       "    }\n",
       "</style>\n",
       "<table border=\"1\" class=\"dataframe\">\n",
       "  <thead>\n",
       "    <tr style=\"text-align: right;\">\n",
       "      <th></th>\n",
       "      <th>Name</th>\n",
       "      <th>Price</th>\n",
       "      <th>Rating</th>\n",
       "      <th>new</th>\n",
       "    </tr>\n",
       "  </thead>\n",
       "  <tbody>\n",
       "    <tr>\n",
       "      <th>0</th>\n",
       "      <td>[realme, c21y, 4gb, ram, 64gb, rom]</td>\n",
       "      <td>৳ 12,322</td>\n",
       "      <td>(209)</td>\n",
       "      <td>angladesh</td>\n",
       "    </tr>\n",
       "    <tr>\n",
       "      <th>1</th>\n",
       "      <td>[realme, 8, 8gb, ram, 128gb, rom, 5000, mah, b...</td>\n",
       "      <td>৳ 21,930</td>\n",
       "      <td>(204)</td>\n",
       "      <td>angladesh</td>\n",
       "    </tr>\n",
       "    <tr>\n",
       "      <th>2</th>\n",
       "      <td>[realme, 9i, 4gb64gb]</td>\n",
       "      <td>৳ 16,847</td>\n",
       "      <td>(37)</td>\n",
       "      <td>angladesh</td>\n",
       "    </tr>\n",
       "    <tr>\n",
       "      <th>3</th>\n",
       "      <td>[realme, c25s, 4gb, 128gb, 6000mah, battery]</td>\n",
       "      <td>৳ 15,342</td>\n",
       "      <td>(312)</td>\n",
       "      <td>angladesh</td>\n",
       "    </tr>\n",
       "    <tr>\n",
       "      <th>4</th>\n",
       "      <td>[realme, c25y, 4gb, ram, 64gb, rom]</td>\n",
       "      <td>৳ 13,291</td>\n",
       "      <td>(235)</td>\n",
       "      <td>angladesh</td>\n",
       "    </tr>\n",
       "    <tr>\n",
       "      <th>...</th>\n",
       "      <td>...</td>\n",
       "      <td>...</td>\n",
       "      <td>...</td>\n",
       "      <td>...</td>\n",
       "    </tr>\n",
       "    <tr>\n",
       "      <th>843</th>\n",
       "      <td>[invens, max3, smartphone]</td>\n",
       "      <td>৳ 4,170</td>\n",
       "      <td>(2)</td>\n",
       "      <td>angladesh</td>\n",
       "    </tr>\n",
       "    <tr>\n",
       "      <th>844</th>\n",
       "      <td>[invens, maxtop1, 2gb, ram, smartphone]</td>\n",
       "      <td>৳ 4,170</td>\n",
       "      <td>(2)</td>\n",
       "      <td>angladesh</td>\n",
       "    </tr>\n",
       "    <tr>\n",
       "      <th>845</th>\n",
       "      <td>[invens, royal, r2, smartphone]</td>\n",
       "      <td>৳ 3,499</td>\n",
       "      <td>(1)</td>\n",
       "      <td>angladesh</td>\n",
       "    </tr>\n",
       "    <tr>\n",
       "      <th>846</th>\n",
       "      <td>[bird, f07, smartphone]</td>\n",
       "      <td>৳ 3,299</td>\n",
       "      <td>(4)</td>\n",
       "      <td>angladesh</td>\n",
       "    </tr>\n",
       "    <tr>\n",
       "      <th>847</th>\n",
       "      <td>[bird, smartphone, e5018, 4g, mobile]</td>\n",
       "      <td>৳ 4,490</td>\n",
       "      <td></td>\n",
       "      <td>angladesh</td>\n",
       "    </tr>\n",
       "  </tbody>\n",
       "</table>\n",
       "<p>848 rows × 4 columns</p>\n",
       "</div>"
      ],
      "text/plain": [
       "                                                  Name     Price Rating  \\\n",
       "0                  [realme, c21y, 4gb, ram, 64gb, rom]  ৳ 12,322  (209)   \n",
       "1    [realme, 8, 8gb, ram, 128gb, rom, 5000, mah, b...  ৳ 21,930  (204)   \n",
       "2                                [realme, 9i, 4gb64gb]  ৳ 16,847   (37)   \n",
       "3         [realme, c25s, 4gb, 128gb, 6000mah, battery]  ৳ 15,342  (312)   \n",
       "4                  [realme, c25y, 4gb, ram, 64gb, rom]  ৳ 13,291  (235)   \n",
       "..                                                 ...       ...    ...   \n",
       "843                         [invens, max3, smartphone]   ৳ 4,170    (2)   \n",
       "844            [invens, maxtop1, 2gb, ram, smartphone]   ৳ 4,170    (2)   \n",
       "845                    [invens, royal, r2, smartphone]   ৳ 3,499    (1)   \n",
       "846                            [bird, f07, smartphone]   ৳ 3,299    (4)   \n",
       "847              [bird, smartphone, e5018, 4g, mobile]   ৳ 4,490          \n",
       "\n",
       "           new  \n",
       "0    angladesh  \n",
       "1    angladesh  \n",
       "2    angladesh  \n",
       "3    angladesh  \n",
       "4    angladesh  \n",
       "..         ...  \n",
       "843  angladesh  \n",
       "844  angladesh  \n",
       "845  angladesh  \n",
       "846  angladesh  \n",
       "847  angladesh  \n",
       "\n",
       "[848 rows x 4 columns]"
      ]
     },
     "execution_count": 18,
     "metadata": {},
     "output_type": "execute_result"
    }
   ],
   "source": [
    "data[[\"Rating\",\"new\"]]=data['Rating'].str.split(\"B\", expand=True)\n",
    "data"
   ]
  },
  {
   "cell_type": "code",
   "execution_count": 19,
   "id": "fa83138f",
   "metadata": {},
   "outputs": [],
   "source": [
    "data.drop(\"new\", axis=1, inplace=True)"
   ]
  },
  {
   "cell_type": "code",
   "execution_count": 20,
   "id": "0e136f82",
   "metadata": {},
   "outputs": [
    {
     "data": {
      "text/html": [
       "<div>\n",
       "<style scoped>\n",
       "    .dataframe tbody tr th:only-of-type {\n",
       "        vertical-align: middle;\n",
       "    }\n",
       "\n",
       "    .dataframe tbody tr th {\n",
       "        vertical-align: top;\n",
       "    }\n",
       "\n",
       "    .dataframe thead th {\n",
       "        text-align: right;\n",
       "    }\n",
       "</style>\n",
       "<table border=\"1\" class=\"dataframe\">\n",
       "  <thead>\n",
       "    <tr style=\"text-align: right;\">\n",
       "      <th></th>\n",
       "      <th>Name</th>\n",
       "      <th>Price</th>\n",
       "      <th>Rating</th>\n",
       "    </tr>\n",
       "  </thead>\n",
       "  <tbody>\n",
       "    <tr>\n",
       "      <th>0</th>\n",
       "      <td>[realme, c21y, 4gb, ram, 64gb, rom]</td>\n",
       "      <td>৳ 12,322</td>\n",
       "      <td>(209)</td>\n",
       "    </tr>\n",
       "    <tr>\n",
       "      <th>1</th>\n",
       "      <td>[realme, 8, 8gb, ram, 128gb, rom, 5000, mah, b...</td>\n",
       "      <td>৳ 21,930</td>\n",
       "      <td>(204)</td>\n",
       "    </tr>\n",
       "    <tr>\n",
       "      <th>2</th>\n",
       "      <td>[realme, 9i, 4gb64gb]</td>\n",
       "      <td>৳ 16,847</td>\n",
       "      <td>(37)</td>\n",
       "    </tr>\n",
       "    <tr>\n",
       "      <th>3</th>\n",
       "      <td>[realme, c25s, 4gb, 128gb, 6000mah, battery]</td>\n",
       "      <td>৳ 15,342</td>\n",
       "      <td>(312)</td>\n",
       "    </tr>\n",
       "    <tr>\n",
       "      <th>4</th>\n",
       "      <td>[realme, c25y, 4gb, ram, 64gb, rom]</td>\n",
       "      <td>৳ 13,291</td>\n",
       "      <td>(235)</td>\n",
       "    </tr>\n",
       "    <tr>\n",
       "      <th>...</th>\n",
       "      <td>...</td>\n",
       "      <td>...</td>\n",
       "      <td>...</td>\n",
       "    </tr>\n",
       "    <tr>\n",
       "      <th>843</th>\n",
       "      <td>[invens, max3, smartphone]</td>\n",
       "      <td>৳ 4,170</td>\n",
       "      <td>(2)</td>\n",
       "    </tr>\n",
       "    <tr>\n",
       "      <th>844</th>\n",
       "      <td>[invens, maxtop1, 2gb, ram, smartphone]</td>\n",
       "      <td>৳ 4,170</td>\n",
       "      <td>(2)</td>\n",
       "    </tr>\n",
       "    <tr>\n",
       "      <th>845</th>\n",
       "      <td>[invens, royal, r2, smartphone]</td>\n",
       "      <td>৳ 3,499</td>\n",
       "      <td>(1)</td>\n",
       "    </tr>\n",
       "    <tr>\n",
       "      <th>846</th>\n",
       "      <td>[bird, f07, smartphone]</td>\n",
       "      <td>৳ 3,299</td>\n",
       "      <td>(4)</td>\n",
       "    </tr>\n",
       "    <tr>\n",
       "      <th>847</th>\n",
       "      <td>[bird, smartphone, e5018, 4g, mobile]</td>\n",
       "      <td>৳ 4,490</td>\n",
       "      <td></td>\n",
       "    </tr>\n",
       "  </tbody>\n",
       "</table>\n",
       "<p>848 rows × 3 columns</p>\n",
       "</div>"
      ],
      "text/plain": [
       "                                                  Name     Price Rating\n",
       "0                  [realme, c21y, 4gb, ram, 64gb, rom]  ৳ 12,322  (209)\n",
       "1    [realme, 8, 8gb, ram, 128gb, rom, 5000, mah, b...  ৳ 21,930  (204)\n",
       "2                                [realme, 9i, 4gb64gb]  ৳ 16,847   (37)\n",
       "3         [realme, c25s, 4gb, 128gb, 6000mah, battery]  ৳ 15,342  (312)\n",
       "4                  [realme, c25y, 4gb, ram, 64gb, rom]  ৳ 13,291  (235)\n",
       "..                                                 ...       ...    ...\n",
       "843                         [invens, max3, smartphone]   ৳ 4,170    (2)\n",
       "844            [invens, maxtop1, 2gb, ram, smartphone]   ৳ 4,170    (2)\n",
       "845                    [invens, royal, r2, smartphone]   ৳ 3,499    (1)\n",
       "846                            [bird, f07, smartphone]   ৳ 3,299    (4)\n",
       "847              [bird, smartphone, e5018, 4g, mobile]   ৳ 4,490       \n",
       "\n",
       "[848 rows x 3 columns]"
      ]
     },
     "execution_count": 20,
     "metadata": {},
     "output_type": "execute_result"
    }
   ],
   "source": [
    "data"
   ]
  },
  {
   "cell_type": "code",
   "execution_count": 21,
   "id": "39efbdf7",
   "metadata": {},
   "outputs": [],
   "source": [
    "def replace(text):\n",
    "    return re.sub(r'','',text)"
   ]
  },
  {
   "cell_type": "code",
   "execution_count": 22,
   "id": "251fdfea",
   "metadata": {},
   "outputs": [],
   "source": [
    "data[\"Rating\"]=data[\"Rating\"].apply(lambda x: replace(x))"
   ]
  },
  {
   "cell_type": "code",
   "execution_count": 23,
   "id": "94a2daf0",
   "metadata": {},
   "outputs": [
    {
     "data": {
      "text/html": [
       "<div>\n",
       "<style scoped>\n",
       "    .dataframe tbody tr th:only-of-type {\n",
       "        vertical-align: middle;\n",
       "    }\n",
       "\n",
       "    .dataframe tbody tr th {\n",
       "        vertical-align: top;\n",
       "    }\n",
       "\n",
       "    .dataframe thead th {\n",
       "        text-align: right;\n",
       "    }\n",
       "</style>\n",
       "<table border=\"1\" class=\"dataframe\">\n",
       "  <thead>\n",
       "    <tr style=\"text-align: right;\">\n",
       "      <th></th>\n",
       "      <th>Name</th>\n",
       "      <th>Price</th>\n",
       "      <th>Rating</th>\n",
       "    </tr>\n",
       "  </thead>\n",
       "  <tbody>\n",
       "    <tr>\n",
       "      <th>0</th>\n",
       "      <td>[realme, c21y, 4gb, ram, 64gb, rom]</td>\n",
       "      <td>৳ 12,322</td>\n",
       "      <td>(209)</td>\n",
       "    </tr>\n",
       "    <tr>\n",
       "      <th>1</th>\n",
       "      <td>[realme, 8, 8gb, ram, 128gb, rom, 5000, mah, b...</td>\n",
       "      <td>৳ 21,930</td>\n",
       "      <td>(204)</td>\n",
       "    </tr>\n",
       "    <tr>\n",
       "      <th>2</th>\n",
       "      <td>[realme, 9i, 4gb64gb]</td>\n",
       "      <td>৳ 16,847</td>\n",
       "      <td>(37)</td>\n",
       "    </tr>\n",
       "    <tr>\n",
       "      <th>3</th>\n",
       "      <td>[realme, c25s, 4gb, 128gb, 6000mah, battery]</td>\n",
       "      <td>৳ 15,342</td>\n",
       "      <td>(312)</td>\n",
       "    </tr>\n",
       "    <tr>\n",
       "      <th>4</th>\n",
       "      <td>[realme, c25y, 4gb, ram, 64gb, rom]</td>\n",
       "      <td>৳ 13,291</td>\n",
       "      <td>(235)</td>\n",
       "    </tr>\n",
       "    <tr>\n",
       "      <th>...</th>\n",
       "      <td>...</td>\n",
       "      <td>...</td>\n",
       "      <td>...</td>\n",
       "    </tr>\n",
       "    <tr>\n",
       "      <th>843</th>\n",
       "      <td>[invens, max3, smartphone]</td>\n",
       "      <td>৳ 4,170</td>\n",
       "      <td>(2)</td>\n",
       "    </tr>\n",
       "    <tr>\n",
       "      <th>844</th>\n",
       "      <td>[invens, maxtop1, 2gb, ram, smartphone]</td>\n",
       "      <td>৳ 4,170</td>\n",
       "      <td>(2)</td>\n",
       "    </tr>\n",
       "    <tr>\n",
       "      <th>845</th>\n",
       "      <td>[invens, royal, r2, smartphone]</td>\n",
       "      <td>৳ 3,499</td>\n",
       "      <td>(1)</td>\n",
       "    </tr>\n",
       "    <tr>\n",
       "      <th>846</th>\n",
       "      <td>[bird, f07, smartphone]</td>\n",
       "      <td>৳ 3,299</td>\n",
       "      <td>(4)</td>\n",
       "    </tr>\n",
       "    <tr>\n",
       "      <th>847</th>\n",
       "      <td>[bird, smartphone, e5018, 4g, mobile]</td>\n",
       "      <td>৳ 4,490</td>\n",
       "      <td></td>\n",
       "    </tr>\n",
       "  </tbody>\n",
       "</table>\n",
       "<p>848 rows × 3 columns</p>\n",
       "</div>"
      ],
      "text/plain": [
       "                                                  Name     Price Rating\n",
       "0                  [realme, c21y, 4gb, ram, 64gb, rom]  ৳ 12,322  (209)\n",
       "1    [realme, 8, 8gb, ram, 128gb, rom, 5000, mah, b...  ৳ 21,930  (204)\n",
       "2                                [realme, 9i, 4gb64gb]  ৳ 16,847   (37)\n",
       "3         [realme, c25s, 4gb, 128gb, 6000mah, battery]  ৳ 15,342  (312)\n",
       "4                  [realme, c25y, 4gb, ram, 64gb, rom]  ৳ 13,291  (235)\n",
       "..                                                 ...       ...    ...\n",
       "843                         [invens, max3, smartphone]   ৳ 4,170    (2)\n",
       "844            [invens, maxtop1, 2gb, ram, smartphone]   ৳ 4,170    (2)\n",
       "845                    [invens, royal, r2, smartphone]   ৳ 3,499    (1)\n",
       "846                            [bird, f07, smartphone]   ৳ 3,299    (4)\n",
       "847              [bird, smartphone, e5018, 4g, mobile]   ৳ 4,490       \n",
       "\n",
       "[848 rows x 3 columns]"
      ]
     },
     "execution_count": 23,
     "metadata": {},
     "output_type": "execute_result"
    }
   ],
   "source": [
    "data"
   ]
  },
  {
   "cell_type": "code",
   "execution_count": 24,
   "id": "faf23aba",
   "metadata": {},
   "outputs": [],
   "source": [
    "def replace(text):\n",
    "    return re.sub(r'৳','',text)"
   ]
  },
  {
   "cell_type": "code",
   "execution_count": 25,
   "id": "9eb8d8b7",
   "metadata": {},
   "outputs": [],
   "source": [
    "data[\"Price\"]=data[\"Price\"].apply(lambda x: replace(x))"
   ]
  },
  {
   "cell_type": "code",
   "execution_count": 26,
   "id": "c6cc7111",
   "metadata": {},
   "outputs": [
    {
     "data": {
      "text/html": [
       "<div>\n",
       "<style scoped>\n",
       "    .dataframe tbody tr th:only-of-type {\n",
       "        vertical-align: middle;\n",
       "    }\n",
       "\n",
       "    .dataframe tbody tr th {\n",
       "        vertical-align: top;\n",
       "    }\n",
       "\n",
       "    .dataframe thead th {\n",
       "        text-align: right;\n",
       "    }\n",
       "</style>\n",
       "<table border=\"1\" class=\"dataframe\">\n",
       "  <thead>\n",
       "    <tr style=\"text-align: right;\">\n",
       "      <th></th>\n",
       "      <th>Name</th>\n",
       "      <th>Price</th>\n",
       "      <th>Rating</th>\n",
       "    </tr>\n",
       "  </thead>\n",
       "  <tbody>\n",
       "    <tr>\n",
       "      <th>0</th>\n",
       "      <td>[realme, c21y, 4gb, ram, 64gb, rom]</td>\n",
       "      <td>12,322</td>\n",
       "      <td>(209)</td>\n",
       "    </tr>\n",
       "    <tr>\n",
       "      <th>1</th>\n",
       "      <td>[realme, 8, 8gb, ram, 128gb, rom, 5000, mah, b...</td>\n",
       "      <td>21,930</td>\n",
       "      <td>(204)</td>\n",
       "    </tr>\n",
       "    <tr>\n",
       "      <th>2</th>\n",
       "      <td>[realme, 9i, 4gb64gb]</td>\n",
       "      <td>16,847</td>\n",
       "      <td>(37)</td>\n",
       "    </tr>\n",
       "    <tr>\n",
       "      <th>3</th>\n",
       "      <td>[realme, c25s, 4gb, 128gb, 6000mah, battery]</td>\n",
       "      <td>15,342</td>\n",
       "      <td>(312)</td>\n",
       "    </tr>\n",
       "    <tr>\n",
       "      <th>4</th>\n",
       "      <td>[realme, c25y, 4gb, ram, 64gb, rom]</td>\n",
       "      <td>13,291</td>\n",
       "      <td>(235)</td>\n",
       "    </tr>\n",
       "    <tr>\n",
       "      <th>...</th>\n",
       "      <td>...</td>\n",
       "      <td>...</td>\n",
       "      <td>...</td>\n",
       "    </tr>\n",
       "    <tr>\n",
       "      <th>843</th>\n",
       "      <td>[invens, max3, smartphone]</td>\n",
       "      <td>4,170</td>\n",
       "      <td>(2)</td>\n",
       "    </tr>\n",
       "    <tr>\n",
       "      <th>844</th>\n",
       "      <td>[invens, maxtop1, 2gb, ram, smartphone]</td>\n",
       "      <td>4,170</td>\n",
       "      <td>(2)</td>\n",
       "    </tr>\n",
       "    <tr>\n",
       "      <th>845</th>\n",
       "      <td>[invens, royal, r2, smartphone]</td>\n",
       "      <td>3,499</td>\n",
       "      <td>(1)</td>\n",
       "    </tr>\n",
       "    <tr>\n",
       "      <th>846</th>\n",
       "      <td>[bird, f07, smartphone]</td>\n",
       "      <td>3,299</td>\n",
       "      <td>(4)</td>\n",
       "    </tr>\n",
       "    <tr>\n",
       "      <th>847</th>\n",
       "      <td>[bird, smartphone, e5018, 4g, mobile]</td>\n",
       "      <td>4,490</td>\n",
       "      <td></td>\n",
       "    </tr>\n",
       "  </tbody>\n",
       "</table>\n",
       "<p>848 rows × 3 columns</p>\n",
       "</div>"
      ],
      "text/plain": [
       "                                                  Name    Price Rating\n",
       "0                  [realme, c21y, 4gb, ram, 64gb, rom]   12,322  (209)\n",
       "1    [realme, 8, 8gb, ram, 128gb, rom, 5000, mah, b...   21,930  (204)\n",
       "2                                [realme, 9i, 4gb64gb]   16,847   (37)\n",
       "3         [realme, c25s, 4gb, 128gb, 6000mah, battery]   15,342  (312)\n",
       "4                  [realme, c25y, 4gb, ram, 64gb, rom]   13,291  (235)\n",
       "..                                                 ...      ...    ...\n",
       "843                         [invens, max3, smartphone]    4,170    (2)\n",
       "844            [invens, maxtop1, 2gb, ram, smartphone]    4,170    (2)\n",
       "845                    [invens, royal, r2, smartphone]    3,499    (1)\n",
       "846                            [bird, f07, smartphone]    3,299    (4)\n",
       "847              [bird, smartphone, e5018, 4g, mobile]    4,490       \n",
       "\n",
       "[848 rows x 3 columns]"
      ]
     },
     "execution_count": 26,
     "metadata": {},
     "output_type": "execute_result"
    }
   ],
   "source": [
    "data"
   ]
  },
  {
   "cell_type": "code",
   "execution_count": 27,
   "id": "fa8681c7",
   "metadata": {},
   "outputs": [
    {
     "data": {
      "text/plain": [
       "Name      object\n",
       "Price     object\n",
       "Rating    object\n",
       "dtype: object"
      ]
     },
     "execution_count": 27,
     "metadata": {},
     "output_type": "execute_result"
    }
   ],
   "source": [
    "data.dtypes"
   ]
  },
  {
   "cell_type": "code",
   "execution_count": 28,
   "id": "6e058b4d",
   "metadata": {},
   "outputs": [],
   "source": [
    "def replace(text):\n",
    "    return re.sub(r',','',text)"
   ]
  },
  {
   "cell_type": "code",
   "execution_count": 29,
   "id": "ae1389c4",
   "metadata": {},
   "outputs": [],
   "source": [
    "data[\"Price\"]=data[\"Price\"].apply(lambda x: replace(x))"
   ]
  },
  {
   "cell_type": "code",
   "execution_count": 30,
   "id": "dafbeb7b",
   "metadata": {},
   "outputs": [],
   "source": [
    "data.Price = data.Price.astype(int)"
   ]
  },
  {
   "cell_type": "code",
   "execution_count": 31,
   "id": "0e8a1388",
   "metadata": {},
   "outputs": [],
   "source": [
    "data.drop(data[data['Price'] < 5000].index, inplace = True)"
   ]
  },
  {
   "cell_type": "code",
   "execution_count": 32,
   "id": "746a16d6",
   "metadata": {},
   "outputs": [
    {
     "data": {
      "text/html": [
       "<div>\n",
       "<style scoped>\n",
       "    .dataframe tbody tr th:only-of-type {\n",
       "        vertical-align: middle;\n",
       "    }\n",
       "\n",
       "    .dataframe tbody tr th {\n",
       "        vertical-align: top;\n",
       "    }\n",
       "\n",
       "    .dataframe thead th {\n",
       "        text-align: right;\n",
       "    }\n",
       "</style>\n",
       "<table border=\"1\" class=\"dataframe\">\n",
       "  <thead>\n",
       "    <tr style=\"text-align: right;\">\n",
       "      <th></th>\n",
       "      <th>Name</th>\n",
       "      <th>Price</th>\n",
       "      <th>Rating</th>\n",
       "    </tr>\n",
       "  </thead>\n",
       "  <tbody>\n",
       "    <tr>\n",
       "      <th>0</th>\n",
       "      <td>[realme, c21y, 4gb, ram, 64gb, rom]</td>\n",
       "      <td>12322</td>\n",
       "      <td>(209)</td>\n",
       "    </tr>\n",
       "    <tr>\n",
       "      <th>1</th>\n",
       "      <td>[realme, 8, 8gb, ram, 128gb, rom, 5000, mah, b...</td>\n",
       "      <td>21930</td>\n",
       "      <td>(204)</td>\n",
       "    </tr>\n",
       "    <tr>\n",
       "      <th>2</th>\n",
       "      <td>[realme, 9i, 4gb64gb]</td>\n",
       "      <td>16847</td>\n",
       "      <td>(37)</td>\n",
       "    </tr>\n",
       "    <tr>\n",
       "      <th>3</th>\n",
       "      <td>[realme, c25s, 4gb, 128gb, 6000mah, battery]</td>\n",
       "      <td>15342</td>\n",
       "      <td>(312)</td>\n",
       "    </tr>\n",
       "    <tr>\n",
       "      <th>4</th>\n",
       "      <td>[realme, c25y, 4gb, ram, 64gb, rom]</td>\n",
       "      <td>13291</td>\n",
       "      <td>(235)</td>\n",
       "    </tr>\n",
       "    <tr>\n",
       "      <th>...</th>\n",
       "      <td>...</td>\n",
       "      <td>...</td>\n",
       "      <td>...</td>\n",
       "    </tr>\n",
       "    <tr>\n",
       "      <th>832</th>\n",
       "      <td>[walton, primo, n4, 4gb, ram, 64gb, rom]</td>\n",
       "      <td>15000</td>\n",
       "      <td></td>\n",
       "    </tr>\n",
       "    <tr>\n",
       "      <th>833</th>\n",
       "      <td>[infinix, hot, 10, 4128, gb]</td>\n",
       "      <td>13990</td>\n",
       "      <td>(2)</td>\n",
       "    </tr>\n",
       "    <tr>\n",
       "      <th>834</th>\n",
       "      <td>[oppo, f19, pro, 8gb128gb, led, flash]</td>\n",
       "      <td>24990</td>\n",
       "      <td>(2)</td>\n",
       "    </tr>\n",
       "    <tr>\n",
       "      <th>835</th>\n",
       "      <td>[zgpax, s99, 3g, smartwatch, phone, android, 5...</td>\n",
       "      <td>5990</td>\n",
       "      <td></td>\n",
       "    </tr>\n",
       "    <tr>\n",
       "      <th>836</th>\n",
       "      <td>[samsung, galaxy, m40, smartphone, 63, 6gb, ra...</td>\n",
       "      <td>29798</td>\n",
       "      <td></td>\n",
       "    </tr>\n",
       "  </tbody>\n",
       "</table>\n",
       "<p>651 rows × 3 columns</p>\n",
       "</div>"
      ],
      "text/plain": [
       "                                                  Name  Price Rating\n",
       "0                  [realme, c21y, 4gb, ram, 64gb, rom]  12322  (209)\n",
       "1    [realme, 8, 8gb, ram, 128gb, rom, 5000, mah, b...  21930  (204)\n",
       "2                                [realme, 9i, 4gb64gb]  16847   (37)\n",
       "3         [realme, c25s, 4gb, 128gb, 6000mah, battery]  15342  (312)\n",
       "4                  [realme, c25y, 4gb, ram, 64gb, rom]  13291  (235)\n",
       "..                                                 ...    ...    ...\n",
       "832           [walton, primo, n4, 4gb, ram, 64gb, rom]  15000       \n",
       "833                       [infinix, hot, 10, 4128, gb]  13990    (2)\n",
       "834             [oppo, f19, pro, 8gb128gb, led, flash]  24990    (2)\n",
       "835  [zgpax, s99, 3g, smartwatch, phone, android, 5...   5990       \n",
       "836  [samsung, galaxy, m40, smartphone, 63, 6gb, ra...  29798       \n",
       "\n",
       "[651 rows x 3 columns]"
      ]
     },
     "execution_count": 32,
     "metadata": {},
     "output_type": "execute_result"
    }
   ],
   "source": [
    "data"
   ]
  },
  {
   "cell_type": "code",
   "execution_count": 33,
   "id": "7efe8259",
   "metadata": {},
   "outputs": [],
   "source": [
    "data['Name'] = data.Name.apply(lambda x: ' '.join(x))"
   ]
  },
  {
   "cell_type": "code",
   "execution_count": 34,
   "id": "b3c37062",
   "metadata": {},
   "outputs": [
    {
     "data": {
      "text/html": [
       "<div>\n",
       "<style scoped>\n",
       "    .dataframe tbody tr th:only-of-type {\n",
       "        vertical-align: middle;\n",
       "    }\n",
       "\n",
       "    .dataframe tbody tr th {\n",
       "        vertical-align: top;\n",
       "    }\n",
       "\n",
       "    .dataframe thead th {\n",
       "        text-align: right;\n",
       "    }\n",
       "</style>\n",
       "<table border=\"1\" class=\"dataframe\">\n",
       "  <thead>\n",
       "    <tr style=\"text-align: right;\">\n",
       "      <th></th>\n",
       "      <th>Name</th>\n",
       "      <th>Price</th>\n",
       "      <th>Rating</th>\n",
       "    </tr>\n",
       "  </thead>\n",
       "  <tbody>\n",
       "    <tr>\n",
       "      <th>0</th>\n",
       "      <td>realme c21y 4gb ram 64gb rom</td>\n",
       "      <td>12322</td>\n",
       "      <td>(209)</td>\n",
       "    </tr>\n",
       "    <tr>\n",
       "      <th>1</th>\n",
       "      <td>realme 8 8gb ram 128gb rom 5000 mah battery</td>\n",
       "      <td>21930</td>\n",
       "      <td>(204)</td>\n",
       "    </tr>\n",
       "    <tr>\n",
       "      <th>2</th>\n",
       "      <td>realme 9i 4gb64gb</td>\n",
       "      <td>16847</td>\n",
       "      <td>(37)</td>\n",
       "    </tr>\n",
       "    <tr>\n",
       "      <th>3</th>\n",
       "      <td>realme c25s 4gb 128gb 6000mah battery</td>\n",
       "      <td>15342</td>\n",
       "      <td>(312)</td>\n",
       "    </tr>\n",
       "    <tr>\n",
       "      <th>4</th>\n",
       "      <td>realme c25y 4gb ram 64gb rom</td>\n",
       "      <td>13291</td>\n",
       "      <td>(235)</td>\n",
       "    </tr>\n",
       "    <tr>\n",
       "      <th>...</th>\n",
       "      <td>...</td>\n",
       "      <td>...</td>\n",
       "      <td>...</td>\n",
       "    </tr>\n",
       "    <tr>\n",
       "      <th>832</th>\n",
       "      <td>walton primo n4 4gb ram 64gb rom</td>\n",
       "      <td>15000</td>\n",
       "      <td></td>\n",
       "    </tr>\n",
       "    <tr>\n",
       "      <th>833</th>\n",
       "      <td>infinix hot 10 4128 gb</td>\n",
       "      <td>13990</td>\n",
       "      <td>(2)</td>\n",
       "    </tr>\n",
       "    <tr>\n",
       "      <th>834</th>\n",
       "      <td>oppo f19 pro 8gb128gb led flash</td>\n",
       "      <td>24990</td>\n",
       "      <td>(2)</td>\n",
       "    </tr>\n",
       "    <tr>\n",
       "      <th>835</th>\n",
       "      <td>zgpax s99 3g smartwatch phone android 51 quad ...</td>\n",
       "      <td>5990</td>\n",
       "      <td></td>\n",
       "    </tr>\n",
       "    <tr>\n",
       "      <th>836</th>\n",
       "      <td>samsung galaxy m40 smartphone 63 6gb ram 128gb...</td>\n",
       "      <td>29798</td>\n",
       "      <td></td>\n",
       "    </tr>\n",
       "  </tbody>\n",
       "</table>\n",
       "<p>651 rows × 3 columns</p>\n",
       "</div>"
      ],
      "text/plain": [
       "                                                  Name  Price Rating\n",
       "0                         realme c21y 4gb ram 64gb rom  12322  (209)\n",
       "1          realme 8 8gb ram 128gb rom 5000 mah battery  21930  (204)\n",
       "2                                    realme 9i 4gb64gb  16847   (37)\n",
       "3                realme c25s 4gb 128gb 6000mah battery  15342  (312)\n",
       "4                         realme c25y 4gb ram 64gb rom  13291  (235)\n",
       "..                                                 ...    ...    ...\n",
       "832                   walton primo n4 4gb ram 64gb rom  15000       \n",
       "833                             infinix hot 10 4128 gb  13990    (2)\n",
       "834                    oppo f19 pro 8gb128gb led flash  24990    (2)\n",
       "835  zgpax s99 3g smartwatch phone android 51 quad ...   5990       \n",
       "836  samsung galaxy m40 smartphone 63 6gb ram 128gb...  29798       \n",
       "\n",
       "[651 rows x 3 columns]"
      ]
     },
     "execution_count": 34,
     "metadata": {},
     "output_type": "execute_result"
    }
   ],
   "source": [
    "data"
   ]
  },
  {
   "cell_type": "code",
   "execution_count": 35,
   "id": "7f889262",
   "metadata": {},
   "outputs": [
    {
     "name": "stdout",
     "output_type": "stream",
     "text": [
      "Name      object\n",
      "Price      int32\n",
      "Rating    object\n",
      "dtype: object\n",
      "Name      object\n",
      "Price     object\n",
      "Rating    object\n",
      "dtype: object\n"
     ]
    },
    {
     "name": "stderr",
     "output_type": "stream",
     "text": [
      "C:\\Users\\ADMINI~1\\AppData\\Local\\Temp/ipykernel_10996/4152308441.py:2: DeprecationWarning: `np.object` is a deprecated alias for the builtin `object`. To silence this warning, use `object` by itself. Doing this will not modify any behavior and is safe. \n",
      "Deprecated in NumPy 1.20; for more details and guidance: https://numpy.org/devdocs/release/1.20.0-notes.html#deprecations\n",
      "  data[\"Price\"]=data[\"Price\"].astype(np.object)\n"
     ]
    }
   ],
   "source": [
    "print(data.dtypes)\n",
    "data[\"Price\"]=data[\"Price\"].astype(np.object)\n",
    "print(data.dtypes)"
   ]
  },
  {
   "cell_type": "code",
   "execution_count": 36,
   "id": "8d315dbb",
   "metadata": {},
   "outputs": [
    {
     "data": {
      "text/plain": [
       "Name      object\n",
       "Price     object\n",
       "Rating    object\n",
       "dtype: object"
      ]
     },
     "execution_count": 36,
     "metadata": {},
     "output_type": "execute_result"
    }
   ],
   "source": [
    "data.dtypes"
   ]
  },
  {
   "cell_type": "code",
   "execution_count": 37,
   "id": "9eaa26bc",
   "metadata": {},
   "outputs": [],
   "source": [
    "from sklearn.feature_extraction.text import TfidfVectorizer\n",
    "from sklearn.model_selection import train_test_split\n",
    "from sklearn.svm import SVR\n",
    "from sklearn.tree import DecisionTreeRegressor\n",
    "from sklearn.metrics import classification_report"
   ]
  },
  {
   "cell_type": "code",
   "execution_count": 38,
   "id": "2f6fee31",
   "metadata": {},
   "outputs": [],
   "source": [
    "tfidf=TfidfVectorizer(max_features=10000)"
   ]
  },
  {
   "cell_type": "code",
   "execution_count": 39,
   "id": "dd48d7ff",
   "metadata": {},
   "outputs": [],
   "source": [
    "y=data[\"Price\"]\n",
    "x=data[\"Name\"]"
   ]
  },
  {
   "cell_type": "code",
   "execution_count": 40,
   "id": "a10a5b51",
   "metadata": {},
   "outputs": [],
   "source": [
    "x=tfidf.fit_transform(x)"
   ]
  },
  {
   "cell_type": "code",
   "execution_count": 41,
   "id": "9fdeff59",
   "metadata": {},
   "outputs": [],
   "source": [
    "x_train,x_test,y_train,y_test=train_test_split(x,y,test_size=0.2,random_state=0)"
   ]
  },
  {
   "cell_type": "code",
   "execution_count": 42,
   "id": "25afd55b",
   "metadata": {},
   "outputs": [],
   "source": [
    "clf=DecisionTreeRegressor()"
   ]
  },
  {
   "cell_type": "code",
   "execution_count": 43,
   "id": "a3e21dfb",
   "metadata": {},
   "outputs": [
    {
     "data": {
      "text/plain": [
       "DecisionTreeRegressor()"
      ]
     },
     "execution_count": 43,
     "metadata": {},
     "output_type": "execute_result"
    }
   ],
   "source": [
    "clf.fit(x_train,y_train)"
   ]
  },
  {
   "cell_type": "code",
   "execution_count": 44,
   "id": "77623d96",
   "metadata": {},
   "outputs": [],
   "source": [
    "y_pred=clf.predict(x_test)"
   ]
  },
  {
   "cell_type": "code",
   "execution_count": 45,
   "id": "52a31eb6",
   "metadata": {},
   "outputs": [
    {
     "data": {
      "text/plain": [
       "0.9999992443101434"
      ]
     },
     "execution_count": 45,
     "metadata": {},
     "output_type": "execute_result"
    }
   ],
   "source": [
    "from sklearn.metrics import r2_score\n",
    "r2_score(y_test,y_pred)"
   ]
  },
  {
   "cell_type": "code",
   "execution_count": 46,
   "id": "8489e08d",
   "metadata": {},
   "outputs": [],
   "source": [
    "tf='INFINIX HOT 11S'\n",
    "vc=tfidf.transform([tf])"
   ]
  },
  {
   "cell_type": "code",
   "execution_count": 47,
   "id": "26afe00d",
   "metadata": {},
   "outputs": [
    {
     "data": {
      "text/plain": [
       "array([14990.])"
      ]
     },
     "execution_count": 47,
     "metadata": {},
     "output_type": "execute_result"
    }
   ],
   "source": [
    "clf.predict(vc)"
   ]
  },
  {
   "cell_type": "code",
   "execution_count": null,
   "id": "782f9053",
   "metadata": {},
   "outputs": [],
   "source": []
  }
 ],
 "metadata": {
  "kernelspec": {
   "display_name": "Python 3 (ipykernel)",
   "language": "python",
   "name": "python3"
  },
  "language_info": {
   "codemirror_mode": {
    "name": "ipython",
    "version": 3
   },
   "file_extension": ".py",
   "mimetype": "text/x-python",
   "name": "python",
   "nbconvert_exporter": "python",
   "pygments_lexer": "ipython3",
   "version": "3.9.7"
  }
 },
 "nbformat": 4,
 "nbformat_minor": 5
}
